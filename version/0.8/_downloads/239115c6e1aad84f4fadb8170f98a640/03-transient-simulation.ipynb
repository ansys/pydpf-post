{
  "cells": [
    {
      "cell_type": "markdown",
      "metadata": {},
      "source": [
        "Transient Simulation with Animation {#ref_transient_example}\n===================================\n\nIn this script transient simulation is processed to extract results like\nstress, strain, displacement. Extracting data for chosen time steps and\nanimating is also displayed.\n"
      ]
    },
    {
      "cell_type": "markdown",
      "metadata": {},
      "source": [
        "Perform required imports\n========================\n\nPerform required imports. \\# This example uses a supplied file that you\ncan get by importing the DPF `examples` package.\n"
      ]
    },
    {
      "cell_type": "code",
      "execution_count": null,
      "metadata": {
        "collapsed": false
      },
      "outputs": [],
      "source": [
        "from ansys.dpf import post\nfrom ansys.dpf.post import examples"
      ]
    },
    {
      "cell_type": "markdown",
      "metadata": {},
      "source": [
        "Get `Simulation` object\n=======================\n\nGet the `Simulation` object that allows access to the result. The\n`Simulation` object must be instantiated with the path for the result\nfile. For example, `\"C:/Users/user/my_result.rst\"` on Windows or\n`\"/home/user/my_result.rst\"` on Linux.\n"
      ]
    },
    {
      "cell_type": "code",
      "execution_count": null,
      "metadata": {
        "collapsed": false
      },
      "outputs": [],
      "source": [
        "example_path = examples.find_msup_transient()\n# to automatically detect the simulation type, use:\nsimulation = post.load_simulation(example_path)\n\n# to enable auto-completion, use the equivalent:\nsimulation = post.TransientMechanicalSimulation(example_path)\n\n# print the simulation to get an overview of what's available\nprint(simulation)"
      ]
    },
    {
      "cell_type": "markdown",
      "metadata": {},
      "source": [
        "Extract displacement at all times or on a selection\n===================================================\n"
      ]
    },
    {
      "cell_type": "code",
      "execution_count": null,
      "metadata": {
        "collapsed": false
      },
      "outputs": [],
      "source": [
        "# query the displacement vectorial field for all times\ndisplacement = simulation.displacement(all_sets=True)\nprint(displacement)\n# animation shows the norm of vectorial fields with several components\ndisplacement.animate(deform=True, title=\"U\")\n\n\n# get specific components with \"components\"\nx_displacement = simulation.displacement(all_sets=True, components=[\"X\"])\nprint(x_displacement)\nx_displacement.animate(deform=True, title=\"UX\")\n\n\n# get the norm of a vectorial result with \"norm=True\"\ndisplacement_norm = simulation.displacement(all_sets=True, norm=True)\nprint(displacement_norm)\ndisplacement_norm.animate(deform=True, title=\"U norm\")\n\n# get the available time set ids in the simulation\nprint(simulation.set_ids)\n\n# extract displacement on given time steps or select the times steps from the already evaluated\n# displacement DataFrame\ndisplacement = simulation.displacement(set_ids=simulation.set_ids[5:])\ndisplacement = displacement.select(set_ids=simulation.set_ids[5:])\nprint(displacement)"
      ]
    },
    {
      "cell_type": "markdown",
      "metadata": {},
      "source": [
        "Extract strain at all times or on a selection\n=============================================\n"
      ]
    },
    {
      "cell_type": "code",
      "execution_count": null,
      "metadata": {
        "collapsed": false
      },
      "outputs": [],
      "source": [
        "strain = simulation.elastic_strain_nodal(all_sets=True)\nprint(strain)\n\nstrain = simulation.elastic_strain_nodal(set_ids=simulation.set_ids[10:])\nprint(strain)"
      ]
    },
    {
      "cell_type": "markdown",
      "metadata": {},
      "source": [
        "Animate strain eqv over all times\n=================================\n"
      ]
    },
    {
      "cell_type": "code",
      "execution_count": null,
      "metadata": {
        "collapsed": false
      },
      "outputs": [],
      "source": [
        "strain_eqv = simulation.elastic_strain_eqv_von_mises_nodal(all_sets=True)\nstrain_eqv.animate(deform=True, title=\"E_eqv\")"
      ]
    }
  ],
  "metadata": {
    "kernelspec": {
      "display_name": "Python 3",
      "language": "python",
      "name": "python3"
    },
    "language_info": {
      "codemirror_mode": {
        "name": "ipython",
        "version": 3
      },
      "file_extension": ".py",
      "mimetype": "text/x-python",
      "name": "python",
      "nbconvert_exporter": "python",
      "pygments_lexer": "ipython3",
      "version": "3.10.14"
    }
  },
  "nbformat": 4,
  "nbformat_minor": 0
}