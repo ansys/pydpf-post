{
  "cells": [
    {
      "cell_type": "markdown",
      "metadata": {},
      "source": [
        "Result keywords {#ref_result_keywords}\n===============\n\nThis example shows how to you can get more precise result with keywords\nwhile calling a `Result` object from a `Solution` object.\n"
      ]
    },
    {
      "cell_type": "markdown",
      "metadata": {},
      "source": [
        "Perform required imports\n========================\n\nPerform required imports.\n"
      ]
    },
    {
      "cell_type": "code",
      "execution_count": null,
      "metadata": {
        "collapsed": false
      },
      "outputs": [],
      "source": [
        "from ansys.dpf import post\nfrom ansys.dpf.post import examples"
      ]
    },
    {
      "cell_type": "markdown",
      "metadata": {},
      "source": [
        "Get `Solution` object\n=====================\n\nGet the `Solution` object.\n"
      ]
    },
    {
      "cell_type": "code",
      "execution_count": null,
      "metadata": {
        "collapsed": false
      },
      "outputs": [],
      "source": [
        "solution = post.load_solution(examples.multishells_rst)"
      ]
    },
    {
      "cell_type": "markdown",
      "metadata": {},
      "source": [
        "Get keyword list\n================\n\nGet the keyword list.\n"
      ]
    },
    {
      "cell_type": "code",
      "execution_count": null,
      "metadata": {
        "collapsed": false
      },
      "outputs": [],
      "source": [
        "post.print_available_keywords()"
      ]
    },
    {
      "cell_type": "markdown",
      "metadata": {},
      "source": [
        "Get `Result` objects\n====================\n"
      ]
    },
    {
      "cell_type": "markdown",
      "metadata": {},
      "source": [
        "Get displacement result using scoping\n=====================================\n\nGet the displacement `Result` object using scoping. The default location\nis nodal.\n"
      ]
    },
    {
      "cell_type": "code",
      "execution_count": null,
      "metadata": {
        "collapsed": false
      },
      "outputs": [],
      "source": [
        "displacement_result = solution.displacement(\n    location=post.locations.nodal, node_scoping=[1, 2, 3]\n)\ndisplacement = displacement_result.vector"
      ]
    },
    {
      "cell_type": "markdown",
      "metadata": {},
      "source": [
        "Get information on result\n=========================\n\nGet information on the displacement result.\n"
      ]
    },
    {
      "cell_type": "code",
      "execution_count": null,
      "metadata": {
        "collapsed": false
      },
      "outputs": [],
      "source": [
        "displacement.get_data_at_field(0)\n\nstress_with_elem_scop_result = solution.stress(\n    location=post.locations.elemental_nodal, element_scoping=[1]\n)\nstress_with_elem_scop = stress_with_elem_scop_result.tensor\n\nstress_with_elem_scop.get_data_at_field(0)"
      ]
    },
    {
      "cell_type": "markdown",
      "metadata": {},
      "source": [
        "Use named selection on result\n=============================\n\nUse a named selection on the displacement result.\n"
      ]
    },
    {
      "cell_type": "code",
      "execution_count": null,
      "metadata": {
        "collapsed": false
      },
      "outputs": [],
      "source": [
        "stress_on_ns_result = solution.stress(\n    location=post.locations.elemental_nodal, named_selection=\"SELECTION\"\n)\nstress_on_ns = stress_on_ns_result.tensor\nstress_on_ns.num_fields\n\nlen(stress_on_ns[0])"
      ]
    },
    {
      "cell_type": "markdown",
      "metadata": {},
      "source": [
        "Get a subresult \\~\\~\\~\\~\\~\\~\\~\\~\\~\\~\\~\\~\\~\\~ Get a subresult.\n"
      ]
    },
    {
      "cell_type": "code",
      "execution_count": null,
      "metadata": {
        "collapsed": false
      },
      "outputs": [],
      "source": [
        "disp_x = displacement_result.x\n\nstress_yz = stress_with_elem_scop_result.yz\n\nstress_principal_1 = stress_on_ns_result.principal_3\nstress_principal_1"
      ]
    },
    {
      "cell_type": "markdown",
      "metadata": {},
      "source": [
        "Filter result\n=============\n\nFilter the result on a time, time scoping, and a set.\n"
      ]
    },
    {
      "cell_type": "code",
      "execution_count": null,
      "metadata": {
        "collapsed": false
      },
      "outputs": [],
      "source": [
        "print(solution.time_freq_support)\n\nstress_on_time_1s_result = solution.stress(time=1.0)\nstress_on_time_1s = stress_on_time_1s_result.tensor\n\ndisplacement_on_set_1_result = solution.displacement(set=1)\ndisplacement_on_set_1 = displacement_on_set_1_result.vector\n\nelastic_strain_with_time_scoping_result = solution.elastic_strain(time_scoping=[1, 3])\nelastic_strain_with_time_scoping = elastic_strain_with_time_scoping_result.tensor\nelastic_strain_with_time_scoping"
      ]
    },
    {
      "cell_type": "markdown",
      "metadata": {},
      "source": [
        "Make grouping\n=============\n\nMake a grouping.\n"
      ]
    },
    {
      "cell_type": "code",
      "execution_count": null,
      "metadata": {
        "collapsed": false
      },
      "outputs": [],
      "source": [
        "displacement_result = solution.displacement(grouping=post.grouping.by_el_shape)\ndisplacement_by_el_shape = displacement_result.vector"
      ]
    },
    {
      "cell_type": "markdown",
      "metadata": {},
      "source": [
        "Filter MAPDL elements\n=====================\n\nFilter for only MAPDL elements of type solid 186.\n"
      ]
    },
    {
      "cell_type": "code",
      "execution_count": null,
      "metadata": {
        "collapsed": false
      },
      "outputs": [],
      "source": [
        "stress_result = solution.stress(mapdl_grouping=186)\nstress_on_solid_186 = stress_result.tensor\nstress_on_solid_186"
      ]
    },
    {
      "cell_type": "markdown",
      "metadata": {},
      "source": [
        "Manipulate result and change its definition\n===========================================\n\nManipulate the result and change its definition.\n"
      ]
    },
    {
      "cell_type": "code",
      "execution_count": null,
      "metadata": {
        "collapsed": false
      },
      "outputs": [],
      "source": [
        "print(stress_on_ns_result)\nprint(stress_on_ns_result.definition.location)\n\nstress_on_ns_result.definition.location = post.locations.elemental\nstress_on_ns_result.definition.time = 1.0\nstress_on_ns_elemental = stress_on_ns_result.tensor\n\nprint(stress_on_ns_result)"
      ]
    },
    {
      "cell_type": "markdown",
      "metadata": {},
      "source": [
        "Use miscellaneous results\n=========================\n\nUse miscellaneous results. You can use the same keywords here. For a\ncomplex result, you can also use the keyword `phase`, which has a float\nvalue.\n"
      ]
    },
    {
      "cell_type": "code",
      "execution_count": null,
      "metadata": {
        "collapsed": false
      },
      "outputs": [],
      "source": [
        "stress_ratio = solution.misc.elemental_stress_ratio(node_scoping=[1, 32], time=1.0)\nprint(stress_ratio)"
      ]
    }
  ],
  "metadata": {
    "kernelspec": {
      "display_name": "Python 3",
      "language": "python",
      "name": "python3"
    },
    "language_info": {
      "codemirror_mode": {
        "name": "ipython",
        "version": 3
      },
      "file_extension": ".py",
      "mimetype": "text/x-python",
      "name": "python",
      "nbconvert_exporter": "python",
      "pygments_lexer": "ipython3",
      "version": "3.10.13"
    }
  },
  "nbformat": 4,
  "nbformat_minor": 0
}