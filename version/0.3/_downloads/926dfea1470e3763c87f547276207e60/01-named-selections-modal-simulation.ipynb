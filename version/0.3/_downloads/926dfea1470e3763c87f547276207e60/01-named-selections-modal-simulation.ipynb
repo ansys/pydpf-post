{
  "cells": [
    {
      "cell_type": "code",
      "execution_count": null,
      "metadata": {
        "collapsed": false
      },
      "outputs": [],
      "source": [
        "%matplotlib inline"
      ]
    },
    {
      "cell_type": "markdown",
      "metadata": {},
      "source": [
        "Extract results on named selections - Modal Simulation {#ref_ns_modal_example}\n======================================================\n\nIn this script static simulation is processed to extract results like\nstress, displacement. Selecting sub parts of the results by scoping on\nspecific nodes, elements is also displayed here.\n"
      ]
    },
    {
      "cell_type": "markdown",
      "metadata": {},
      "source": [
        "Perform required imports\n========================\n\nPerform required imports. \\# This example uses a supplied file that you\ncan get by importing the DPF `examples` package.\n"
      ]
    },
    {
      "cell_type": "code",
      "execution_count": null,
      "metadata": {
        "collapsed": false
      },
      "outputs": [],
      "source": [
        "from ansys.dpf import post\nfrom ansys.dpf.post import examples"
      ]
    },
    {
      "cell_type": "markdown",
      "metadata": {},
      "source": [
        "Get `Simulation` object\n=======================\n\nGet the `Simulation` object that allows access to the result. The\n`Simulation` object must be instantiated with the path for the result\nfile. For example, `\"C:/Users/user/my_result.rst\"` on Windows or\n`\"/home/user/my_result.rst\"` on Linux.\n"
      ]
    },
    {
      "cell_type": "code",
      "execution_count": null,
      "metadata": {
        "collapsed": false
      },
      "outputs": [],
      "source": [
        "example_path = examples.download_modal_frame()\nsimulation = post.load_simulation(example_path)\n\n# for no autocompletion, this line is equivalent to:\nsimulation = post.ModalMechanicalSimulation(example_path)\n\n# print the simulation to get an overview of what's available\nprint(simulation)"
      ]
    },
    {
      "cell_type": "markdown",
      "metadata": {},
      "source": [
        "Get the available named selections\n==================================\n"
      ]
    },
    {
      "cell_type": "code",
      "execution_count": null,
      "metadata": {
        "collapsed": false
      },
      "outputs": [],
      "source": [
        "print(simulation.named_selections)"
      ]
    },
    {
      "cell_type": "markdown",
      "metadata": {},
      "source": [
        "Extract displacements on named selections\n=========================================\n"
      ]
    },
    {
      "cell_type": "code",
      "execution_count": null,
      "metadata": {
        "collapsed": false
      },
      "outputs": [],
      "source": [
        "bar1_tot_displacement = simulation.displacement(named_selections=[\"BAR_1\"], norm=True)\nprint(bar1_tot_displacement)\nbar1_tot_displacement.plot()\n\nbar2_tot_displacement = simulation.displacement(named_selections=[\"BAR_2\"], norm=True)\nprint(bar2_tot_displacement)\nbar2_tot_displacement.plot()\n\n# both\ntot_displacement = simulation.displacement(\n    named_selections=[\"BAR_1\", \"BAR_2\"], norm=True\n)\nprint(tot_displacement)\ntot_displacement.plot()"
      ]
    },
    {
      "cell_type": "markdown",
      "metadata": {},
      "source": [
        "Extract stress and averaged stress on named selections\n======================================================\n"
      ]
    },
    {
      "cell_type": "code",
      "execution_count": null,
      "metadata": {
        "collapsed": false
      },
      "outputs": [],
      "source": [
        "eqv_stress = simulation.stress_eqv_von_mises_nodal(named_selections=[\"_FIXEDSU\"])\nprint(eqv_stress)\n\n# without selection\nelemental_stress = simulation.stress_elemental(named_selections=[\"BAR_1\"])\nprint(elemental_stress)\nelemental_stress.plot()"
      ]
    }
  ],
  "metadata": {
    "kernelspec": {
      "display_name": "Python 3",
      "language": "python",
      "name": "python3"
    },
    "language_info": {
      "codemirror_mode": {
        "name": "ipython",
        "version": 3
      },
      "file_extension": ".py",
      "mimetype": "text/x-python",
      "name": "python",
      "nbconvert_exporter": "python",
      "pygments_lexer": "ipython3",
      "version": "3.8.16"
    }
  },
  "nbformat": 4,
  "nbformat_minor": 0
}