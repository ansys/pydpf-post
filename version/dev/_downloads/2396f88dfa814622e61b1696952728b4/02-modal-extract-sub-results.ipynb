{
  "cells": [
    {
      "cell_type": "code",
      "execution_count": null,
      "metadata": {
        "collapsed": false
      },
      "outputs": [],
      "source": [
        "%matplotlib inline"
      ]
    },
    {
      "cell_type": "markdown",
      "metadata": {},
      "source": [
        "Extract components of results - Modal Simulation {#ref_modal_sub_results_example}\n================================================\n\nIn this script modal simulation is processed to extract sub components\nof results like elastic stain, displacement.\n"
      ]
    },
    {
      "cell_type": "markdown",
      "metadata": {},
      "source": [
        "Perform required imports\n========================\n\nPerform required imports. \\# This example uses a supplied file that you\ncan get by importing the DPF `examples` package.\n"
      ]
    },
    {
      "cell_type": "code",
      "execution_count": null,
      "metadata": {
        "collapsed": false
      },
      "outputs": [],
      "source": [
        "from ansys.dpf import post\nfrom ansys.dpf.post import examples"
      ]
    },
    {
      "cell_type": "markdown",
      "metadata": {},
      "source": [
        "Get `Simulation` object\n=======================\n\nGet the `Simulation` object that allows access to the result. The\n`Simulation` object must be instantiated with the path for the result\nfile. For example, `\"C:/Users/user/my_result.rst\"` on Windows or\n`\"/home/user/my_result.rst\"` on Linux.\n"
      ]
    },
    {
      "cell_type": "code",
      "execution_count": null,
      "metadata": {
        "collapsed": false
      },
      "outputs": [],
      "source": [
        "example_path = examples.download_all_kinds_of_complexity_modal()\nsimulation = post.load_simulation(example_path)\n\n# for no autocompletion, this line is equivalent to:\nsimulation = post.ModalMechanicalSimulation(example_path)\n\ndisplacement = simulation.displacement(modes=[1, 2])\nstr(displacement)\n# print the simulation to get an overview of what's available\nprint(simulation)"
      ]
    },
    {
      "cell_type": "markdown",
      "metadata": {},
      "source": [
        "Extract X displacement over a list modes\n========================================\n\nPrinting the time freq support can help pick the right modes\n"
      ]
    },
    {
      "cell_type": "code",
      "execution_count": null,
      "metadata": {
        "collapsed": false
      },
      "outputs": [],
      "source": [
        "print(simulation.time_freq_support)\n\n# To get X displacements on the first 2 modes\nx_displacement = simulation.displacement(modes=[1, 2], components=[\"X\"])\n# equivalent to\nx_displacement = simulation.displacement(set_ids=[1, 2], components=[\"X\"])\nprint(x_displacement)\n\nx_displacement.plot(set_id=1)"
      ]
    },
    {
      "cell_type": "markdown",
      "metadata": {},
      "source": [
        "Extract XX and XY elastic strain over a list modes\n==================================================\n\nTo get X displacements on the first 2 modes\n"
      ]
    },
    {
      "cell_type": "code",
      "execution_count": null,
      "metadata": {
        "collapsed": false
      },
      "outputs": [],
      "source": [
        "XX_XY_elastic_strain = simulation.elastic_strain_nodal(\n    modes=[3], components=[\"XX\", \"XY\"]\n)\nprint(XX_XY_elastic_strain)"
      ]
    }
  ],
  "metadata": {
    "kernelspec": {
      "display_name": "Python 3",
      "language": "python",
      "name": "python3"
    },
    "language_info": {
      "codemirror_mode": {
        "name": "ipython",
        "version": 3
      },
      "file_extension": ".py",
      "mimetype": "text/x-python",
      "name": "python",
      "nbconvert_exporter": "python",
      "pygments_lexer": "ipython3",
      "version": "3.8.16"
    }
  },
  "nbformat": 4,
  "nbformat_minor": 0
}