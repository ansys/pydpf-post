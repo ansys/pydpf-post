{
  "cells": [
    {
      "cell_type": "markdown",
      "metadata": {},
      "source": [
        "# Reduce model size by using the mesh skin for result and mesh extraction {#ref_mesh_skin_example}\n\nThis example shows postprocessing on a mesh skin for a static analysis.\nThe skin mesh is rebuilt with new surface elements connecting the nodes\non the external skin of the solid mesh. These surface elements types are\nchosen with respect to the solid elements facets having all their nodes\non the skin.\n\nThis feature, available for all types of mechanical simulation, allows\nyou to reduce the size of both the mesh and the extracted data to\nimprove processing performance. Because larger stresses and strains are\nusually located on the skin of a model, computing results on the skin\ngives equivalent maximum values in most cases.\n\nPostprocessing of elemental or elemental nodal results requires element\nsolid to skin mapping to get from a solid element result to a facet\nresult. Because the connectivity of the new surface elements built on\nthe skin are different from the connectivity of the solid elements,\nsmall differences can be found after result averaging.\n"
      ]
    },
    {
      "cell_type": "markdown",
      "metadata": {},
      "source": [
        "# Perform required imports\n\nPerform required imports. This example uses a supplied file that you can\nget using the `examples` module.\n"
      ]
    },
    {
      "cell_type": "code",
      "execution_count": null,
      "metadata": {
        "collapsed": false
      },
      "outputs": [],
      "source": [
        "from ansys.dpf import post\nfrom ansys.dpf.post import examples"
      ]
    },
    {
      "cell_type": "markdown",
      "metadata": {},
      "source": [
        "# Get `Simulation` object\n\nGet the `Simulation` object that allows access to the result. The\n`Simulation` object must be instantiated with the path for the result\nfile. For example, `\"C:/Users/user/my_result.rst\"` on Windows or\n`\"/home/user/my_result.rst\"` on Linux.\n"
      ]
    },
    {
      "cell_type": "code",
      "execution_count": null,
      "metadata": {
        "collapsed": false
      },
      "outputs": [],
      "source": [
        "example_path = examples.download_crankshaft()\n# to automatically detect the simulation type, use:\nsimulation = post.load_simulation(example_path)\n\n# to enable auto-completion, use the equivalent:\nsimulation = post.StaticMechanicalSimulation(example_path)\n\n# print the simulation to get an overview of what's available\nprint(simulation)"
      ]
    },
    {
      "cell_type": "markdown",
      "metadata": {},
      "source": [
        "# Extract displacement data\n\nExtract displacement data on the skin.\n"
      ]
    },
    {
      "cell_type": "code",
      "execution_count": null,
      "metadata": {
        "collapsed": false
      },
      "outputs": [],
      "source": [
        "displacement_skin = simulation.displacement(skin=True)\ndisplacement_skin.plot()\n\nprint(f\"number of nodes with skin=True: {len(displacement_skin.index.mesh_index)}\")\nprint(f\"number of nodes with skin=False: {len(simulation.mesh.node_ids)}\")"
      ]
    },
    {
      "cell_type": "markdown",
      "metadata": {},
      "source": [
        "# Extract stress and strain data\n\nExtract stress and elastic strain data on the skin. Compute averages and\ninvariants through a solid-to-skin connectivity mapping.\n"
      ]
    },
    {
      "cell_type": "code",
      "execution_count": null,
      "metadata": {
        "collapsed": false
      },
      "outputs": [],
      "source": [
        "elemental_stress_skin = simulation.stress_principal_elemental(components=[1], skin=True)\nelemental_stress_skin.plot()\n\nprint(\n    f\"number of elements with skin=True: {len(elemental_stress_skin.index.mesh_index)}\"\n)\nprint(f\"number of elements with skin=False: {len(simulation.mesh.element_ids)}\")\n\n\nelastic_strain_eqv_skin = simulation.elastic_strain_eqv_von_mises_nodal(skin=True)\nelastic_strain_eqv_skin.plot()"
      ]
    },
    {
      "cell_type": "markdown",
      "metadata": {},
      "source": [
        "# Extract external layer on a selection of elements\n"
      ]
    },
    {
      "cell_type": "code",
      "execution_count": null,
      "metadata": {
        "collapsed": false
      },
      "outputs": [],
      "source": [
        "all_elements = simulation.mesh.element_ids\nelements = []\nfor i in range(0, int(all_elements.size / 2)):\n    elements.append(all_elements[i])\nelemental_stress_skin = simulation.stress_principal_elemental(skin=elements)\nelemental_stress_skin.plot()"
      ]
    }
  ],
  "metadata": {
    "kernelspec": {
      "display_name": "Python 3",
      "language": "python",
      "name": "python3"
    },
    "language_info": {
      "codemirror_mode": {
        "name": "ipython",
        "version": 3
      },
      "file_extension": ".py",
      "mimetype": "text/x-python",
      "name": "python",
      "nbconvert_exporter": "python",
      "pygments_lexer": "ipython3",
      "version": "3.10.18"
    }
  },
  "nbformat": 4,
  "nbformat_minor": 0
}