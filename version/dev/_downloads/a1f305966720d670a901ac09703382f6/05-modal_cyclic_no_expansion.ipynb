{
  "cells": [
    {
      "cell_type": "markdown",
      "metadata": {},
      "source": [
        "# Get base and duplicate sector results for a modal cyclic symmetry model {#ref_basic_cyclic}\n\nThis example shows how to extract real and imaginary results from a\nmodal cyclic symmetry model.\n"
      ]
    },
    {
      "cell_type": "markdown",
      "metadata": {},
      "source": [
        "# Perform required imports\n\nPerform required imports. This example uses a supplied file that you can\nget using the `examples` module.\n"
      ]
    },
    {
      "cell_type": "code",
      "execution_count": null,
      "metadata": {
        "collapsed": false
      },
      "outputs": [],
      "source": [
        "from ansys.dpf import post\nfrom ansys.dpf.post import examples"
      ]
    },
    {
      "cell_type": "markdown",
      "metadata": {},
      "source": [
        "# Get `Simulation` object\n\nGet the `Simulation` object that allows access to the result. The\n`Simulation` object must be instantiated with the path for the result\nfile. For example, `\"C:/Users/user/my_result.rst\"` on Windows or\n`\"/home/user/my_result.rst\"` on Linux.\n"
      ]
    },
    {
      "cell_type": "code",
      "execution_count": null,
      "metadata": {
        "collapsed": false
      },
      "outputs": [],
      "source": [
        "example_path = examples.download_modal_cyclic()\nsimulation = post.ModalMechanicalSimulation(example_path)\n\n# print the simulation to get an overview of what's available\nprint(simulation)"
      ]
    },
    {
      "cell_type": "markdown",
      "metadata": {},
      "source": [
        "# Get base and duplicate sector displacement results\n\nWith `expand_cyclic=False`, the result providers (such as stress and\ndisplacement) return results for base and duplicate sectors for the\ncyclic symmetry model.\n"
      ]
    },
    {
      "cell_type": "code",
      "execution_count": null,
      "metadata": {
        "collapsed": false
      },
      "outputs": [],
      "source": [
        "# Create displacement operator\nu_cyc = simulation.displacement(all_sets=True, expand_cyclic=False)"
      ]
    },
    {
      "cell_type": "markdown",
      "metadata": {},
      "source": [
        "The output dataframe print displays the organization of the data. The\n`base_sector` label gives access to base sector results with\n`base_sector=True` and duplicate sector results with `base_sector=False`\nfor all modes.\n\nThe print also shows that there are no duplicate sectors for the first\nsix modes. Indeed, modes with harmonic index 0 have 0.0 displacement,\nstresses\\... on duplicate sectors.\n"
      ]
    },
    {
      "cell_type": "code",
      "execution_count": null,
      "metadata": {
        "collapsed": false
      },
      "outputs": [],
      "source": [
        "# print(u_cyc)\nprint(simulation.time_freq_support)\n\ns_cyc = simulation.stress_eqv_von_mises_nodal(all_sets=True, expand_cyclic=False)\n# plot mode 7 base sector (real) result\ns_cyc.plot(set_ids=7, base_sector=1)\n\n# plot mode 7 duplicate sector (imaginary) result\ns_cyc.plot(set_ids=7, base_sector=0)"
      ]
    },
    {
      "cell_type": "markdown",
      "metadata": {},
      "source": [
        "# Get displacement results on first sector with a cyclic phase\n\nGet displacemetn results with phi set to different values.\n"
      ]
    },
    {
      "cell_type": "code",
      "execution_count": null,
      "metadata": {
        "collapsed": false
      },
      "outputs": [],
      "source": [
        "# with phi=0\u00b0\nu_cyc = simulation.displacement(all_sets=True, expand_cyclic=[1])\nu_cyc.plot()\n\n# with phi=90\u00b0\nu_cyc = simulation.displacement(\n    all_sets=True, expand_cyclic=[1], phase_angle_cyclic=90.0\n)\nu_cyc.plot()\n\n# with phi=45\u00b0\nu_cyc = simulation.displacement(\n    all_sets=True, expand_cyclic=[1], phase_angle_cyclic=45.0\n)\nu_cyc.plot()"
      ]
    },
    {
      "cell_type": "markdown",
      "metadata": {},
      "source": [
        "# Get nodal stress results on first sector with a cyclic phase\n"
      ]
    },
    {
      "cell_type": "code",
      "execution_count": null,
      "metadata": {
        "collapsed": false
      },
      "outputs": [],
      "source": [
        "s_cyc = simulation.stress_eqv_von_mises_nodal(\n    all_sets=True, expand_cyclic=[1], phase_angle_cyclic=45.0\n)\nprint(s_cyc)\ns_cyc.plot()"
      ]
    },
    {
      "cell_type": "markdown",
      "metadata": {},
      "source": [
        "# Get elemental nodal stress results on first sector with a cyclic phase\n\nElemental nodal is the default result location for stress and strain.\n"
      ]
    },
    {
      "cell_type": "code",
      "execution_count": null,
      "metadata": {
        "collapsed": false
      },
      "outputs": [],
      "source": [
        "s_cyc = simulation.stress(set_ids=[7], expand_cyclic=[1], phase_angle_cyclic=45.0)\nprint(s_cyc)\n\n# To average the result for each element\nto_elemental = simulation.stress_elemental(\n    set_ids=[7], expand_cyclic=[1], phase_angle_cyclic=45.0\n)\nprint(to_elemental)\nto_elemental.plot()"
      ]
    },
    {
      "cell_type": "markdown",
      "metadata": {},
      "source": [
        "# Get nodal stress results expanded\n"
      ]
    },
    {
      "cell_type": "code",
      "execution_count": null,
      "metadata": {
        "collapsed": false
      },
      "outputs": [],
      "source": [
        "s_cyc = simulation.stress_eqv_von_mises_nodal(set_ids=[7])\ns_cyc.plot()"
      ]
    }
  ],
  "metadata": {
    "kernelspec": {
      "display_name": "Python 3",
      "language": "python",
      "name": "python3"
    },
    "language_info": {
      "codemirror_mode": {
        "name": "ipython",
        "version": 3
      },
      "file_extension": ".py",
      "mimetype": "text/x-python",
      "name": "python",
      "nbconvert_exporter": "python",
      "pygments_lexer": "ipython3",
      "version": "3.10.18"
    }
  },
  "nbformat": 4,
  "nbformat_minor": 0
}