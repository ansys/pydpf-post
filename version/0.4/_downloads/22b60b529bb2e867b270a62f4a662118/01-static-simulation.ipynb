{
  "cells": [
    {
      "cell_type": "code",
      "execution_count": null,
      "metadata": {
        "collapsed": false
      },
      "outputs": [],
      "source": [
        "%matplotlib inline"
      ]
    },
    {
      "cell_type": "markdown",
      "metadata": {},
      "source": [
        "Static Simulation {#ref_static_example}\n=================\n\nIn this script static simulation is processed to extract results like\nstress, displacement. Selecting sub parts of the results by scoping on\nspecific nodes or elements is also displayed here.\n"
      ]
    },
    {
      "cell_type": "markdown",
      "metadata": {},
      "source": [
        "Perform required imports\n========================\n\nPerform required imports. \\# This example uses a supplied file that you\ncan get by importing the DPF `examples` package.\n"
      ]
    },
    {
      "cell_type": "code",
      "execution_count": null,
      "metadata": {
        "collapsed": false
      },
      "outputs": [],
      "source": [
        "from ansys.dpf import post\nfrom ansys.dpf.post import examples"
      ]
    },
    {
      "cell_type": "markdown",
      "metadata": {},
      "source": [
        "Get `Simulation` object\n=======================\n\nGet the `Simulation` object that allows access to the result. The\n`Simulation` object must be instantiated with the path for the result\nfile. For example, `\"C:/Users/user/my_result.rst\"` on Windows or\n`\"/home/user/my_result.rst\"` on Linux.\n"
      ]
    },
    {
      "cell_type": "code",
      "execution_count": null,
      "metadata": {
        "collapsed": false
      },
      "outputs": [],
      "source": [
        "example_path = examples.find_static_rst()\nsimulation = post.load_simulation(example_path)\n\n# for no autocompletion, this line is equivalent to:\nsimulation = post.StaticMechanicalSimulation(example_path)\n\n# print the simulation to get an overview of what's available\nprint(simulation)\n\ndisplacement = simulation.displacement()\nprint(displacement)"
      ]
    },
    {
      "cell_type": "markdown",
      "metadata": {},
      "source": [
        "Select sub parts of displacement\n================================\n"
      ]
    },
    {
      "cell_type": "code",
      "execution_count": null,
      "metadata": {
        "collapsed": false
      },
      "outputs": [],
      "source": [
        "# To get X displacements\nx_displacement = displacement.select(components=\"X\")\nprint(x_displacement)\n\n\n# equivalent to\nx_displacement = simulation.displacement(components=[\"X\"])\nprint(x_displacement)\n\n# plot\nx_displacement.plot()\n\n# extract displacement on specific nodes\nnodes_displacement = displacement.select(node_ids=[1, 10, 100])\nnodes_displacement.plot()\n\n# equivalent to:\nnodes_displacement = simulation.displacement(node_ids=[1, 10, 100])\nprint(nodes_displacement)"
      ]
    },
    {
      "cell_type": "markdown",
      "metadata": {},
      "source": [
        "Compute total displacement (norm)\n=================================\n\nCompute the norm of displacement on a selection of nodes\n"
      ]
    },
    {
      "cell_type": "code",
      "execution_count": null,
      "metadata": {
        "collapsed": false
      },
      "outputs": [],
      "source": [
        "nodes_displacement = simulation.displacement(\n    node_ids=simulation.mesh.node_ids[10:], norm=True\n)\nprint(nodes_displacement)\nnodes_displacement.plot()"
      ]
    },
    {
      "cell_type": "markdown",
      "metadata": {},
      "source": [
        "Extract tensor stress, apply averaging, compute equivalent\n==========================================================\n\nExtract raw elemental nodal stresses from the rst file\n"
      ]
    },
    {
      "cell_type": "code",
      "execution_count": null,
      "metadata": {
        "collapsed": false
      },
      "outputs": [],
      "source": [
        "elem_nodal_stress = simulation.stress()\nprint(elem_nodal_stress)\n\n# Compute nodal stresses from the result file\nnodal_stress = simulation.stress_nodal()\nprint(nodal_stress)\n\n# Compute elemental stresses from the result file\nelemental_stress = simulation.stress_elemental()\nprint(elemental_stress)\n\n# Extract elemental stresses on specific elements\nelemental_stress = elemental_stress.select(element_ids=[5, 6, 7])\nelemental_stress.plot()\n\n# Compute nodal eqv stresses from the result file\neqv_stress = simulation.stress_eqv_von_mises_nodal()\nprint(eqv_stress)\neqv_stress.plot()"
      ]
    }
  ],
  "metadata": {
    "kernelspec": {
      "display_name": "Python 3",
      "language": "python",
      "name": "python3"
    },
    "language_info": {
      "codemirror_mode": {
        "name": "ipython",
        "version": 3
      },
      "file_extension": ".py",
      "mimetype": "text/x-python",
      "name": "python",
      "nbconvert_exporter": "python",
      "pygments_lexer": "ipython3",
      "version": "3.8.16"
    }
  },
  "nbformat": 4,
  "nbformat_minor": 0
}