{
  "cells": [
    {
      "cell_type": "markdown",
      "metadata": {},
      "source": [
        "Reduce Cyclic Model Size by using Mesh Skin for Result and Mesh extraction {#ref_cyclic_mesh_skin_example}\n==========================================================================\n\nThis example displays post-processing on a mesh skin for a cyclic modal\nanalysis. The skin mesh is rebuilt with new surface elements connecting\nthe nodes on the external skin of the solid mesh. These surface elements\ntypes are chosen with respect to the solid elements facets having all\ntheir nodes on the skin. This feature is available for all types of\nMechanical simulation supporting cyclic (or cyclic multistage) and\nallows you to reduce the size of the mesh and of the extracted data to\nimprove processing performance. Since larger stress and strains are\nusually located on the skin of a model, computing results on the skin\ngives equivalent maximum values in most cases. Post-processing of\nelemental or elemental nodal results requires element solid to skin\nmapping to get from a solid element result to a facet result. The\nconnectivity of the new surface elements built on the skin being\ndifferent from the connectivity of the solid elements, small differences\ncan be found after result averaging. To plot cyclic expanded results,\nthe skin mesh is expanded.\n"
      ]
    },
    {
      "cell_type": "markdown",
      "metadata": {},
      "source": [
        "Perform required imports\n========================\n\nThis example uses a supplied file that you can get using the `examples`\nmodule.\n"
      ]
    },
    {
      "cell_type": "code",
      "execution_count": null,
      "metadata": {
        "collapsed": false
      },
      "outputs": [],
      "source": [
        "from ansys.dpf import post\nfrom ansys.dpf.post import examples"
      ]
    },
    {
      "cell_type": "markdown",
      "metadata": {},
      "source": [
        "Get `Simulation` object\n=======================\n\nGet the `Simulation` object that allows access to the result. The\n`Simulation` object must be instantiated with the path for the result\nfile. For example, `\"C:/Users/user/my_result.rst\"` on Windows or\n`\"/home/user/my_result.rst\"` on Linux.\n"
      ]
    },
    {
      "cell_type": "code",
      "execution_count": null,
      "metadata": {
        "collapsed": false
      },
      "outputs": [],
      "source": [
        "example_path = examples.download_modal_cyclic()\nsimulation = post.ModalMechanicalSimulation(example_path)\n\n# print the simulation to get an overview of what's available\nprint(simulation)"
      ]
    },
    {
      "cell_type": "markdown",
      "metadata": {},
      "source": [
        "Extract displacement data\n=========================\n\nExtract displacement data on the skin.\n"
      ]
    },
    {
      "cell_type": "code",
      "execution_count": null,
      "metadata": {
        "collapsed": false
      },
      "outputs": [],
      "source": [
        "displacement_skin = simulation.displacement(skin=True)\ndisplacement_skin.plot()"
      ]
    },
    {
      "cell_type": "markdown",
      "metadata": {},
      "source": [
        "Extract stress/strain data\n==========================\n\nExtract stress or elastic strain data over the entire mesh and on the\nskin. Averaging, and invariants computation are done through a solid to\nskin connectivity mapping.\n"
      ]
    },
    {
      "cell_type": "code",
      "execution_count": null,
      "metadata": {
        "collapsed": false
      },
      "outputs": [],
      "source": [
        "elemental_stress_skin = simulation.stress_principal_elemental(components=[1], skin=True)\nelemental_stress_skin.plot()\n\nelastic_strain_eqv_skin = simulation.elastic_strain_eqv_von_mises_nodal(skin=True)\nelastic_strain_eqv_skin.plot()"
      ]
    },
    {
      "cell_type": "markdown",
      "metadata": {},
      "source": [
        "Get stress results on the skin of the first sector with a cyclic phase\n======================================================================\n"
      ]
    },
    {
      "cell_type": "code",
      "execution_count": null,
      "metadata": {
        "collapsed": false
      },
      "outputs": [],
      "source": [
        "stress_eqv_cyc_phase = simulation.stress_eqv_von_mises_nodal(\n    set_ids=[5],\n    expand_cyclic=[1],\n    phase_angle_cyclic=45.0,\n    skin=True,\n)\nstress_eqv_cyc_phase.plot()"
      ]
    }
  ],
  "metadata": {
    "kernelspec": {
      "display_name": "Python 3",
      "language": "python",
      "name": "python3"
    },
    "language_info": {
      "codemirror_mode": {
        "name": "ipython",
        "version": 3
      },
      "file_extension": ".py",
      "mimetype": "text/x-python",
      "name": "python",
      "nbconvert_exporter": "python",
      "pygments_lexer": "ipython3",
      "version": "3.8.17"
    }
  },
  "nbformat": 4,
  "nbformat_minor": 0
}