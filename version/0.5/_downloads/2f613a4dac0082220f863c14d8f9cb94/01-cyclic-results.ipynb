{
  "cells": [
    {
      "cell_type": "markdown",
      "metadata": {},
      "source": [
        "Extract cyclic results {#ref_cyclic_results_example}\n======================\n\nIn this script, a modal analysis with cyclic symmetry is processed to\nshow how to expand the mesh and results.\n"
      ]
    },
    {
      "cell_type": "markdown",
      "metadata": {},
      "source": [
        "Perform required imports\n========================\n\nThis example uses a supplied file that you can get by importing the DPF\n`examples` package.\n"
      ]
    },
    {
      "cell_type": "code",
      "execution_count": null,
      "metadata": {
        "collapsed": false
      },
      "outputs": [],
      "source": [
        "from ansys.dpf import post\nfrom ansys.dpf.post import examples"
      ]
    },
    {
      "cell_type": "markdown",
      "metadata": {},
      "source": [
        "Get `Simulation` object\n=======================\n\nGet the `Simulation` object that allows access to the result. The\n`Simulation` object must be instantiated with the path for the result\nfile. For example, `\"C:/Users/user/my_result.rst\"` on Windows or\n`\"/home/user/my_result.rst\"` on Linux.\n"
      ]
    },
    {
      "cell_type": "code",
      "execution_count": null,
      "metadata": {
        "collapsed": false
      },
      "outputs": [],
      "source": [
        "example_path = examples.find_simple_cyclic()\nsimulation = post.ModalMechanicalSimulation(example_path)\n\n# print the simulation to get an overview of what's available\nprint(simulation)"
      ]
    },
    {
      "cell_type": "markdown",
      "metadata": {},
      "source": [
        "Extract expanded displacement norm\n==================================\n"
      ]
    },
    {
      "cell_type": "code",
      "execution_count": null,
      "metadata": {
        "collapsed": false
      },
      "outputs": [],
      "source": [
        "displacement_norm = simulation.displacement(\n    norm=True,\n    expand_cyclic=True,\n)\nprint(displacement_norm)\ndisplacement_norm.plot()"
      ]
    },
    {
      "cell_type": "markdown",
      "metadata": {},
      "source": [
        "Extract equivalent von Mises nodal stress expanded on the first four sectors\n============================================================================\n"
      ]
    },
    {
      "cell_type": "code",
      "execution_count": null,
      "metadata": {
        "collapsed": false
      },
      "outputs": [],
      "source": [
        "stress_vm_sectors_1_2_3_4 = simulation.stress_eqv_von_mises_nodal(\n    expand_cyclic=[1, 2, 3, 4],\n)\nprint(stress_vm_sectors_1_2_3_4)\nstress_vm_sectors_1_2_3_4.plot()"
      ]
    },
    {
      "cell_type": "markdown",
      "metadata": {},
      "source": [
        "Extract equivalent von Mises nodal stress without expansion\n===========================================================\n"
      ]
    },
    {
      "cell_type": "code",
      "execution_count": null,
      "metadata": {
        "collapsed": false
      },
      "outputs": [],
      "source": [
        "stress_vm_sector_1 = simulation.stress_eqv_von_mises_nodal(\n    expand_cyclic=False,\n)\nprint(stress_vm_sector_1)\nstress_vm_sector_1.plot()"
      ]
    }
  ],
  "metadata": {
    "kernelspec": {
      "display_name": "Python 3",
      "language": "python",
      "name": "python3"
    },
    "language_info": {
      "codemirror_mode": {
        "name": "ipython",
        "version": 3
      },
      "file_extension": ".py",
      "mimetype": "text/x-python",
      "name": "python",
      "nbconvert_exporter": "python",
      "pygments_lexer": "ipython3",
      "version": "3.8.17"
    }
  },
  "nbformat": 4,
  "nbformat_minor": 0
}