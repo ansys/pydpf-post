{
  "cells": [
    {
      "cell_type": "markdown",
      "metadata": {},
      "source": [
        "Get base and duplicate sectors (real and imaginary) results for modal cyclic symmetry {#ref_basic_cyclic}\n=====================================================================================\n\nThis example shows how to extract results from a modal cyclic symmetry\nmodel.\n"
      ]
    },
    {
      "cell_type": "markdown",
      "metadata": {},
      "source": [
        "Perform required imports\n========================\n\nThis example uses a supplied file that you can get using the `examples`\nmodule.\n"
      ]
    },
    {
      "cell_type": "code",
      "execution_count": null,
      "metadata": {
        "collapsed": false
      },
      "outputs": [],
      "source": [
        "from ansys.dpf import post\nfrom ansys.dpf.post import examples"
      ]
    },
    {
      "cell_type": "markdown",
      "metadata": {},
      "source": [
        "Get `Simulation` object\n=======================\n\nGet the `Simulation` object that allows access to the result. The\n`Simulation` object must be instantiated with the path for the result\nfile. For example, `\"C:/Users/user/my_result.rst\"` on Windows or\n`\"/home/user/my_result.rst\"` on Linux.\n"
      ]
    },
    {
      "cell_type": "code",
      "execution_count": null,
      "metadata": {
        "collapsed": false
      },
      "outputs": [],
      "source": [
        "example_path = examples.download_modal_cyclic()\nsimulation = post.ModalMechanicalSimulation(example_path)\n\n# print the simulation to get an overview of what's available\nprint(simulation)"
      ]
    },
    {
      "cell_type": "markdown",
      "metadata": {},
      "source": [
        "Get base and duplicate sectors displacement results\n===================================================\n\nWith `expand_cyclic=False`, the result providers (stress, displacement,\nand so on) return results for base and duplicate sectors for a cyclic\nsymmetry model.\n"
      ]
    },
    {
      "cell_type": "code",
      "execution_count": null,
      "metadata": {
        "collapsed": false
      },
      "outputs": [],
      "source": [
        "# Create displacement operator\nu_cyc = simulation.displacement(all_sets=True, expand_cyclic=False)"
      ]
    },
    {
      "cell_type": "markdown",
      "metadata": {},
      "source": [
        "The output dataframe print displays the organization of the data. The\nlabel \\\"base\\_sector\\\" gives access to base sectors results with\nbase\\_sector=True and duplicate sector with base\\_sector=False for all\nmodes. The print also displays that there are no duplicate sectors for\nthe first 6 modes. Indeed, modes with harmonic index 0 have 0.0\ndisplacement, stresses\\... on duplicate sectors.\n"
      ]
    },
    {
      "cell_type": "code",
      "execution_count": null,
      "metadata": {
        "collapsed": false
      },
      "outputs": [],
      "source": [
        "# print(u_cyc)\nprint(simulation.time_freq_support)\n\ns_cyc = simulation.stress_eqv_von_mises_nodal(all_sets=True, expand_cyclic=False)\n# plot mode 7 base sector (real) result\ns_cyc.plot(set_ids=7, base_sector=1)\n\n# plot mode 7 duplicate sector (imaginary) result\ns_cyc.plot(set_ids=7, base_sector=0)"
      ]
    },
    {
      "cell_type": "markdown",
      "metadata": {},
      "source": [
        "Get displacement results on the first sector with a cyclic phase\n================================================================\n\nwith phi=0\u00b0\n"
      ]
    },
    {
      "cell_type": "code",
      "execution_count": null,
      "metadata": {
        "collapsed": false
      },
      "outputs": [],
      "source": [
        "u_cyc = simulation.displacement(all_sets=True, expand_cyclic=[1])\nu_cyc.plot()\n\n# with phi=90\u00b0\nu_cyc = simulation.displacement(\n    all_sets=True, expand_cyclic=[1], phase_angle_cyclic=90.0\n)\nu_cyc.plot()\n\n# with phi=45\u00b0\nu_cyc = simulation.displacement(\n    all_sets=True, expand_cyclic=[1], phase_angle_cyclic=45.0\n)\nu_cyc.plot()"
      ]
    },
    {
      "cell_type": "markdown",
      "metadata": {},
      "source": [
        "Get nodal stress results on the first sector with a cyclic phase\n================================================================\n"
      ]
    },
    {
      "cell_type": "code",
      "execution_count": null,
      "metadata": {
        "collapsed": false
      },
      "outputs": [],
      "source": [
        "s_cyc = simulation.stress_eqv_von_mises_nodal(\n    all_sets=True, expand_cyclic=[1], phase_angle_cyclic=45.0\n)\nprint(s_cyc)\ns_cyc.plot()"
      ]
    },
    {
      "cell_type": "markdown",
      "metadata": {},
      "source": [
        "Get elemental\\_nodal stress results on the first sector with a cyclic phase\n===========================================================================\n\nElemental nodal is the default result location for stress and strain.\n"
      ]
    },
    {
      "cell_type": "code",
      "execution_count": null,
      "metadata": {
        "collapsed": false
      },
      "outputs": [],
      "source": [
        "s_cyc = simulation.stress(set_ids=[7], expand_cyclic=[1], phase_angle_cyclic=45.0)\nprint(s_cyc)\n\n# To average the result for each element\nto_elemental = simulation.stress_elemental(\n    set_ids=[7], expand_cyclic=[1], phase_angle_cyclic=45.0\n)\nprint(to_elemental)\nto_elemental.plot()"
      ]
    },
    {
      "cell_type": "markdown",
      "metadata": {},
      "source": [
        "Get nodal stress results expanded\n=================================\n"
      ]
    },
    {
      "cell_type": "code",
      "execution_count": null,
      "metadata": {
        "collapsed": false
      },
      "outputs": [],
      "source": [
        "s_cyc = simulation.stress_eqv_von_mises_nodal(set_ids=[7])\ns_cyc.plot()"
      ]
    }
  ],
  "metadata": {
    "kernelspec": {
      "display_name": "Python 3",
      "language": "python",
      "name": "python3"
    },
    "language_info": {
      "codemirror_mode": {
        "name": "ipython",
        "version": 3
      },
      "file_extension": ".py",
      "mimetype": "text/x-python",
      "name": "python",
      "nbconvert_exporter": "python",
      "pygments_lexer": "ipython3",
      "version": "3.8.17"
    }
  },
  "nbformat": 4,
  "nbformat_minor": 0
}