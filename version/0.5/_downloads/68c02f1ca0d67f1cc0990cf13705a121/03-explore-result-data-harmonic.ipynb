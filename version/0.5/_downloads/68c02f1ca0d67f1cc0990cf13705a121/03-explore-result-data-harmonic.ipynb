{
  "cells": [
    {
      "cell_type": "markdown",
      "metadata": {},
      "source": [
        "Explore the data of a result with the DataFrame - Harmonic Simulation {#ref_data_data_frame_example}\n=====================================================================\n\nIn this script a harmonic simulation is used as an example to show how\nto interact with the post DataFrame: object returned by each result.\n"
      ]
    },
    {
      "cell_type": "markdown",
      "metadata": {},
      "source": [
        "Perform required imports\n========================\n\nPerform required imports. \\# This example uses a supplied file that you\ncan get by importing the DPF `examples` package.\n"
      ]
    },
    {
      "cell_type": "code",
      "execution_count": null,
      "metadata": {
        "collapsed": false
      },
      "outputs": [],
      "source": [
        "from ansys.dpf import post\nfrom ansys.dpf.post import examples"
      ]
    },
    {
      "cell_type": "markdown",
      "metadata": {},
      "source": [
        "Get `Simulation` object\n=======================\n\nGet the `Simulation` object that allows access to the result. The\n`Simulation` object must be instantiated with the path for the result\nfile. For example, `\"C:/Users/user/my_result.rst\"` on Windows or\n`\"/home/user/my_result.rst\"` on Linux.\n"
      ]
    },
    {
      "cell_type": "code",
      "execution_count": null,
      "metadata": {
        "collapsed": false
      },
      "outputs": [],
      "source": [
        "example_path = examples.download_harmonic_clamped_pipe()\n# to automatically detect the simulation type, use:\nsimulation = post.load_simulation(example_path)\n\n# to enable auto-completion, use the equivalent:\nsimulation = post.HarmonicMechanicalSimulation(example_path)"
      ]
    },
    {
      "cell_type": "markdown",
      "metadata": {},
      "source": [
        "Extract displacement over all sets as an example\n================================================\n"
      ]
    },
    {
      "cell_type": "code",
      "execution_count": null,
      "metadata": {
        "collapsed": false
      },
      "outputs": [],
      "source": [
        "displacement = simulation.displacement(all_sets=True)\nprint(displacement)\ntype(displacement)"
      ]
    },
    {
      "cell_type": "markdown",
      "metadata": {},
      "source": [
        "Loop over all columns and rows to understand the DataFrame and get the\nvalues for each index.\n"
      ]
    },
    {
      "cell_type": "code",
      "execution_count": null,
      "metadata": {
        "collapsed": false
      },
      "outputs": [],
      "source": [
        "# columns\nfor column in displacement.columns:\n    print(f'Column with label \"{column.name}\" and available values {column.values}.')\n\n# rows\nfor row in displacement.index:\n    print(f'Row with label \"{row.name}\" and available values {row.values}.')"
      ]
    },
    {
      "cell_type": "markdown",
      "metadata": {},
      "source": [
        "Make selections in this DataFrame\n=================================\n\nAll the labels and values displayed above can be used to select sub\nparts of the DataFrame.\n"
      ]
    },
    {
      "cell_type": "code",
      "execution_count": null,
      "metadata": {
        "collapsed": false
      },
      "outputs": [],
      "source": [
        "all_real_values = displacement.select(complex=0)\nprint(all_real_values)\n\nall_imaginary_values = displacement.select(complex=1)\nprint(all_imaginary_values)\n\nsets_values = displacement.select(set_ids=[1, 2])\nprint(sets_values)\n\nnode_values = displacement.select(node_ids=[3548])\nprint(node_values)"
      ]
    },
    {
      "cell_type": "markdown",
      "metadata": {},
      "source": [
        "Make selections by index in this DataFrame\n==========================================\n\nTo select values by index for each label, the iselect method can be\nused. The index to ID order follows what is returned by the values on\nindex method used above.\n"
      ]
    },
    {
      "cell_type": "code",
      "execution_count": null,
      "metadata": {
        "collapsed": false
      },
      "outputs": [],
      "source": [
        "sets_values = displacement.iselect(set_ids=0)\nprint(sets_values)\n\nnode_values = displacement.iselect(node_ids=[0])\nprint(node_values)"
      ]
    },
    {
      "cell_type": "markdown",
      "metadata": {},
      "source": [
        "Make multi selections in this DataFrame\n=======================================\n"
      ]
    },
    {
      "cell_type": "code",
      "execution_count": null,
      "metadata": {
        "collapsed": false
      },
      "outputs": [],
      "source": [
        "real_values_for_one_set_onde_node = displacement.select(\n    node_ids=[3548], set_ids=1, complex=0\n)\nprint(real_values_for_one_set_onde_node)"
      ]
    },
    {
      "cell_type": "markdown",
      "metadata": {},
      "source": [
        "Make selections to plot the DataFrame\n=====================================\n"
      ]
    },
    {
      "cell_type": "code",
      "execution_count": null,
      "metadata": {
        "collapsed": false
      },
      "outputs": [],
      "source": [
        "displacement.plot(set_ids=1, complex=0)"
      ]
    }
  ],
  "metadata": {
    "kernelspec": {
      "display_name": "Python 3",
      "language": "python",
      "name": "python3"
    },
    "language_info": {
      "codemirror_mode": {
        "name": "ipython",
        "version": 3
      },
      "file_extension": ".py",
      "mimetype": "text/x-python",
      "name": "python",
      "nbconvert_exporter": "python",
      "pygments_lexer": "ipython3",
      "version": "3.8.17"
    }
  },
  "nbformat": 4,
  "nbformat_minor": 0
}