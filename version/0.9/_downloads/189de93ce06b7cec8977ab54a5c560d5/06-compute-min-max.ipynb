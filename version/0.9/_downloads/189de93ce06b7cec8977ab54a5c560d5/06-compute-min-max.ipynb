{
  "cells": [
    {
      "cell_type": "markdown",
      "metadata": {},
      "source": [
        "Compute minimum and maximum of a DataFrame {#ref_compute_statistics_example}\n==========================================\n\nIn this example, transient mechanical displacement data is used to show\nhow to compute the min or max of a given DataFrame.\n"
      ]
    },
    {
      "cell_type": "markdown",
      "metadata": {},
      "source": [
        "Perform required imports\n========================\n\nThis example uses a supplied file that you can get using the `examples`\nmodule.\n"
      ]
    },
    {
      "cell_type": "code",
      "execution_count": null,
      "metadata": {
        "collapsed": false
      },
      "outputs": [],
      "source": [
        "from ansys.dpf import post\nfrom ansys.dpf.post import examples"
      ]
    },
    {
      "cell_type": "markdown",
      "metadata": {},
      "source": [
        "Get `Simulation` object\n=======================\n\nGet the `Simulation` object that allows access to the result. The\n`Simulation` object must be instantiated with the path for the result\nfile. For example, `\"C:/Users/user/my_result.rst\"` on Windows or\n`\"/home/user/my_result.rst\"` on Linux.\n"
      ]
    },
    {
      "cell_type": "code",
      "execution_count": null,
      "metadata": {
        "collapsed": false
      },
      "outputs": [],
      "source": [
        "example_path = examples.download_crankshaft()\n# to automatically detect the simulation type, use:\nsimulation = post.load_simulation(example_path)\n\n# to enable auto-completion, use the equivalent:\nsimulation = post.StaticMechanicalSimulation(example_path)\n\n# print the simulation to get an overview of what's available\nprint(simulation)"
      ]
    },
    {
      "cell_type": "markdown",
      "metadata": {},
      "source": [
        "Extract displacement data\n=========================\n"
      ]
    },
    {
      "cell_type": "code",
      "execution_count": null,
      "metadata": {
        "collapsed": false
      },
      "outputs": [],
      "source": [
        "displacement = simulation.displacement(all_sets=True)\nprint(displacement)"
      ]
    },
    {
      "cell_type": "markdown",
      "metadata": {},
      "source": [
        "Compute the maximum displacement for each component at each time-step\n=====================================================================\n"
      ]
    },
    {
      "cell_type": "code",
      "execution_count": null,
      "metadata": {
        "collapsed": false
      },
      "outputs": [],
      "source": [
        "# The default axis is the MeshIndex\nmaximum_over_mesh = displacement.max()\nprint(maximum_over_mesh)\n# is equivalent to\nmaximum_over_mesh = displacement.max(axis=\"node_ids\")\nprint(maximum_over_mesh)\n\n# Compute the maximum displacement for each node and component across time\n# ------------------------------------------------------------------------\nmaximum_over_time = displacement.max(axis=\"set_ids\")\nprint(maximum_over_time)\n\n# Compute the maximum displacement overall\n# ----------------------------------------\nmaximum_overall = maximum_over_time.max()\nprint(maximum_overall)"
      ]
    },
    {
      "cell_type": "markdown",
      "metadata": {},
      "source": [
        "Compute the minimum displacement for each component at each time-step\n=====================================================================\n"
      ]
    },
    {
      "cell_type": "code",
      "execution_count": null,
      "metadata": {
        "collapsed": false
      },
      "outputs": [],
      "source": [
        "# The default axis is the MeshIndex\nminimum_over_mesh = displacement.min()\nprint(minimum_over_mesh)\n# is equivalent to\nminimum_over_mesh = displacement.min(axis=\"node_ids\")\nprint(minimum_over_mesh)\n\n# Compute the minimum displacement for each node and component across time\n# ------------------------------------------------------------------------\nminimum_over_time = displacement.min(axis=\"set_ids\")\nprint(minimum_over_time)\n\n# Compute the minimum displacement overall\n# ----------------------------------------\nminimum_overall = minimum_over_time.min()\nprint(minimum_overall)"
      ]
    }
  ],
  "metadata": {
    "kernelspec": {
      "display_name": "Python 3",
      "language": "python",
      "name": "python3"
    },
    "language_info": {
      "codemirror_mode": {
        "name": "ipython",
        "version": 3
      },
      "file_extension": ".py",
      "mimetype": "text/x-python",
      "name": "python",
      "nbconvert_exporter": "python",
      "pygments_lexer": "ipython3",
      "version": "3.10.15"
    }
  },
  "nbformat": 4,
  "nbformat_minor": 0
}