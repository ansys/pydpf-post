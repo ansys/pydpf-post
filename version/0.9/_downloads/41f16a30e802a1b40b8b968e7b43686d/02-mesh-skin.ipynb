{
  "cells": [
    {
      "cell_type": "markdown",
      "metadata": {},
      "source": [
        "Reduce Model Size by using Mesh Skin for Result and Mesh extraction {#ref_mesh_skin_example}\n===================================================================\n\nThis example displays post-processing on a mesh skin for a static\nanalysis. The skin mesh is rebuilt with new surface elements connecting\nthe nodes on the external skin of the solid mesh. These surface elements\ntypes are chosen with respect to the solid elements facets having all\ntheir nodes on the skin. This feature is available for all types of\nMechanical simulation and allows you to reduce the size of the mesh and\nof the extracted data to improve processing performance. Since larger\nstress and strains are usually located on the skin of a model, computing\nresults on the skin gives equivalent maximum values in most cases.\nPost-processing of elemental or elemental nodal results requires element\nsolid to skin mapping to get from a solid element result to a facet\nresult. The connectivity of the new surface elements built on the skin\nbeing different from the connectivity of the solid elements, small\ndifferences can be found after result averaging.\n"
      ]
    },
    {
      "cell_type": "markdown",
      "metadata": {},
      "source": [
        "Perform required imports\n========================\n\nThis example uses a supplied file that you can get using the `examples`\nmodule.\n"
      ]
    },
    {
      "cell_type": "code",
      "execution_count": null,
      "metadata": {
        "collapsed": false
      },
      "outputs": [],
      "source": [
        "from ansys.dpf import post\nfrom ansys.dpf.post import examples"
      ]
    },
    {
      "cell_type": "markdown",
      "metadata": {},
      "source": [
        "Get `Simulation` object\n=======================\n\nGet the `Simulation` object that allows access to the result. The\n`Simulation` object must be instantiated with the path for the result\nfile. For example, `\"C:/Users/user/my_result.rst\"` on Windows or\n`\"/home/user/my_result.rst\"` on Linux.\n"
      ]
    },
    {
      "cell_type": "code",
      "execution_count": null,
      "metadata": {
        "collapsed": false
      },
      "outputs": [],
      "source": [
        "example_path = examples.download_crankshaft()\n# to automatically detect the simulation type, use:\nsimulation = post.load_simulation(example_path)\n\n# to enable auto-completion, use the equivalent:\nsimulation = post.StaticMechanicalSimulation(example_path)\n\n# print the simulation to get an overview of what's available\nprint(simulation)"
      ]
    },
    {
      "cell_type": "markdown",
      "metadata": {},
      "source": [
        "Extract displacement data\n=========================\n\nExtract displacement data on the skin.\n"
      ]
    },
    {
      "cell_type": "code",
      "execution_count": null,
      "metadata": {
        "collapsed": false
      },
      "outputs": [],
      "source": [
        "displacement_skin = simulation.displacement(skin=True)\ndisplacement_skin.plot()\n\nprint(f\"number of nodes with skin=True: {len(displacement_skin.index.mesh_index)}\")\nprint(f\"number of nodes with skin=False: {len(simulation.mesh.node_ids)}\")"
      ]
    },
    {
      "cell_type": "markdown",
      "metadata": {},
      "source": [
        "Extract stress/strain data\n==========================\n\nExtract stress or elastic strain data and on the skin. Averaging, and\ninvariants computation are done through a solid to skin connectivity\nmapping.\n"
      ]
    },
    {
      "cell_type": "code",
      "execution_count": null,
      "metadata": {
        "collapsed": false
      },
      "outputs": [],
      "source": [
        "elemental_stress_skin = simulation.stress_principal_elemental(components=[1], skin=True)\nelemental_stress_skin.plot()\n\nprint(\n    f\"number of elements with skin=True: {len(elemental_stress_skin.index.mesh_index)}\"\n)\nprint(f\"number of elements with skin=False: {len(simulation.mesh.element_ids)}\")\n\n\nelastic_strain_eqv_skin = simulation.elastic_strain_eqv_von_mises_nodal(skin=True)\nelastic_strain_eqv_skin.plot()"
      ]
    },
    {
      "cell_type": "markdown",
      "metadata": {},
      "source": [
        "Extract the external layer on a selection of elements\n=====================================================\n"
      ]
    },
    {
      "cell_type": "code",
      "execution_count": null,
      "metadata": {
        "collapsed": false
      },
      "outputs": [],
      "source": [
        "all_elements = simulation.mesh.element_ids\nelements = []\nfor i in range(0, int(all_elements.size / 2)):\n    elements.append(all_elements[i])\nelemental_stress_skin = simulation.stress_principal_elemental(skin=elements)\nelemental_stress_skin.plot()"
      ]
    }
  ],
  "metadata": {
    "kernelspec": {
      "display_name": "Python 3",
      "language": "python",
      "name": "python3"
    },
    "language_info": {
      "codemirror_mode": {
        "name": "ipython",
        "version": 3
      },
      "file_extension": ".py",
      "mimetype": "text/x-python",
      "name": "python",
      "nbconvert_exporter": "python",
      "pygments_lexer": "ipython3",
      "version": "3.10.15"
    }
  },
  "nbformat": 4,
  "nbformat_minor": 0
}