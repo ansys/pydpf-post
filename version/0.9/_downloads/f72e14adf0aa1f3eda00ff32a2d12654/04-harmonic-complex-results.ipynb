{
  "cells": [
    {
      "cell_type": "markdown",
      "metadata": {},
      "source": [
        "Harmonic Simulation {#ref_harmonic_example}\n===================\n\nIn this script harmonic simulation is processed and complex results are\nused.\n"
      ]
    },
    {
      "cell_type": "markdown",
      "metadata": {},
      "source": [
        "Perform required imports\n========================\n\nPerform required imports. \\# This example uses a supplied file that you\ncan get by importing the DPF `examples` package.\n"
      ]
    },
    {
      "cell_type": "code",
      "execution_count": null,
      "metadata": {
        "collapsed": false
      },
      "outputs": [],
      "source": [
        "from ansys.dpf import post\nfrom ansys.dpf.post import examples"
      ]
    },
    {
      "cell_type": "markdown",
      "metadata": {},
      "source": [
        "Get `Simulation` object\n=======================\n\nGet the `Simulation` object that allows access to the result. The\n`Simulation` object must be instantiated with the path for the result\nfile. For example, `\"C:/Users/user/my_result.rst\"` on Windows or\n`\"/home/user/my_result.rst\"` on Linux.\n"
      ]
    },
    {
      "cell_type": "code",
      "execution_count": null,
      "metadata": {
        "collapsed": false
      },
      "outputs": [],
      "source": [
        "example_path = examples.download_harmonic_clamped_pipe()\n# to automatically detect the simulation type, use:\nsimulation = post.load_simulation(example_path)\n\n# to enable auto-completion, use the equivalent:\nsimulation = post.HarmonicMechanicalSimulation(example_path)\n\n# print the simulation to get an overview of what's available\n\nprint(simulation)"
      ]
    },
    {
      "cell_type": "markdown",
      "metadata": {},
      "source": [
        "Extract displacement over a list of frequencies sets\n====================================================\n\nPrinting the time freq support can help pick the right frequencies\n"
      ]
    },
    {
      "cell_type": "code",
      "execution_count": null,
      "metadata": {
        "collapsed": false
      },
      "outputs": [],
      "source": [
        "print(simulation.time_freq_support)\n\ndisplacement = simulation.displacement(set_ids=[1, 2])\nprint(displacement)\n\nsubdisp = displacement.select(complex=0, set_ids=1)\nprint(subdisp)\nsubdisp.plot(title=\"U tot real\")\n\nsubdisp = displacement.select(complex=1, set_ids=1)\nprint(subdisp)\nsubdisp.plot(title=\"U tot imaginary\")\n\nsubdisp = displacement.select(complex=0, set_ids=2)\nprint(subdisp)\nsubdisp.plot(title=\"U tot real\")"
      ]
    },
    {
      "cell_type": "markdown",
      "metadata": {},
      "source": [
        "Extract stress eqv over a list of frequencies sets\n==================================================\n"
      ]
    },
    {
      "cell_type": "code",
      "execution_count": null,
      "metadata": {
        "collapsed": false
      },
      "outputs": [],
      "source": [
        "stress_eqv = simulation.stress_eqv_von_mises_nodal(set_ids=[1, 2])\nprint(stress_eqv)\n\nsub_eqv = stress_eqv.select(complex=0, set_ids=1)\nprint(sub_eqv)\nsub_eqv.plot(title=\"S_eqv real\")\n\nsub_eqv = stress_eqv.select(complex=1, set_ids=1)\nprint(sub_eqv)\nsub_eqv.plot(title=\"S_eqv imaginary\")\n\nsub_eqv = stress_eqv.select(complex=0, set_ids=2)\nprint(sub_eqv)\nsub_eqv.plot(title=\"S_eqv real\")"
      ]
    }
  ],
  "metadata": {
    "kernelspec": {
      "display_name": "Python 3",
      "language": "python",
      "name": "python3"
    },
    "language_info": {
      "codemirror_mode": {
        "name": "ipython",
        "version": 3
      },
      "file_extension": ".py",
      "mimetype": "text/x-python",
      "name": "python",
      "nbconvert_exporter": "python",
      "pygments_lexer": "ipython3",
      "version": "3.10.15"
    }
  },
  "nbformat": 4,
  "nbformat_minor": 0
}