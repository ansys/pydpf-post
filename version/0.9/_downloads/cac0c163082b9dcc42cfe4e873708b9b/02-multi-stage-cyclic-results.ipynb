{
  "cells": [
    {
      "cell_type": "markdown",
      "metadata": {},
      "source": [
        "Extract multi-stage cyclic results {#ref_multi-stage_cyclic_results_example}\n==================================\n\nIn this script, a multi-stage modal analysis with cyclic symmetry is\nprocessed to show how to expand the mesh and results.\n"
      ]
    },
    {
      "cell_type": "markdown",
      "metadata": {},
      "source": [
        "Perform required imports\n========================\n\nThis example uses a supplied file that you can get by importing the DPF\n`examples` package.\n"
      ]
    },
    {
      "cell_type": "code",
      "execution_count": null,
      "metadata": {
        "collapsed": false
      },
      "outputs": [],
      "source": [
        "from ansys.dpf import post\nfrom ansys.dpf.post import examples"
      ]
    },
    {
      "cell_type": "markdown",
      "metadata": {},
      "source": [
        "Get `Simulation` object\n=======================\n\nGet the `Simulation` object that allows access to the result. The\n`Simulation` object must be instantiated with the path for the result\nfile. For example, `\"C:/Users/user/my_result.rst\"` on Windows or\n`\"/home/user/my_result.rst\"` on Linux.\n"
      ]
    },
    {
      "cell_type": "code",
      "execution_count": null,
      "metadata": {
        "collapsed": false
      },
      "outputs": [],
      "source": [
        "example_path = examples.download_multi_stage_cyclic_result()\nsimulation = post.ModalMechanicalSimulation(example_path)\n\n# print the simulation to get an overview of what's available\nprint(simulation)"
      ]
    },
    {
      "cell_type": "markdown",
      "metadata": {},
      "source": [
        "Extract expanded displacement norm\n==================================\n"
      ]
    },
    {
      "cell_type": "code",
      "execution_count": null,
      "metadata": {
        "collapsed": false
      },
      "outputs": [],
      "source": [
        "displacement_norm = simulation.displacement(\n    norm=True,\n    expand_cyclic=True,\n)\nprint(displacement_norm)\ndisplacement_norm.plot()"
      ]
    },
    {
      "cell_type": "markdown",
      "metadata": {},
      "source": [
        "Extract equivalent von Mises nodal stress without expansion\n===========================================================\n"
      ]
    },
    {
      "cell_type": "code",
      "execution_count": null,
      "metadata": {
        "collapsed": false
      },
      "outputs": [],
      "source": [
        "stress_vm_sector_1_both_stages = simulation.stress_eqv_von_mises_nodal(\n    expand_cyclic=False,\n)\nprint(stress_vm_sector_1_both_stages)\nstress_vm_sector_1_both_stages.plot()"
      ]
    },
    {
      "cell_type": "markdown",
      "metadata": {},
      "source": [
        "Extract equivalent von Mises nodal stress expanded on the first four sectors of the first stage\n===============================================================================================\n"
      ]
    },
    {
      "cell_type": "code",
      "execution_count": null,
      "metadata": {
        "collapsed": false
      },
      "outputs": [],
      "source": [
        "stress_vm_sectors_1_2_3_4_first_stage = simulation.stress_eqv_von_mises_nodal(\n    expand_cyclic=[1, 2, 3, 4],\n)\nprint(stress_vm_sectors_1_2_3_4_first_stage)\nstress_vm_sectors_1_2_3_4_first_stage.plot()"
      ]
    },
    {
      "cell_type": "markdown",
      "metadata": {},
      "source": [
        "Extract equivalent von Mises nodal stress expanded on the first two sectors of both stages\n==========================================================================================\n"
      ]
    },
    {
      "cell_type": "code",
      "execution_count": null,
      "metadata": {
        "collapsed": false
      },
      "outputs": [],
      "source": [
        "stress_vm_sectors_1_2_both_stages = simulation.stress_eqv_von_mises_nodal(\n    expand_cyclic=[[1, 2], [1, 2]],\n)\nprint(stress_vm_sectors_1_2_both_stages)\nstress_vm_sectors_1_2_both_stages.plot()"
      ]
    }
  ],
  "metadata": {
    "kernelspec": {
      "display_name": "Python 3",
      "language": "python",
      "name": "python3"
    },
    "language_info": {
      "codemirror_mode": {
        "name": "ipython",
        "version": 3
      },
      "file_extension": ".py",
      "mimetype": "text/x-python",
      "name": "python",
      "nbconvert_exporter": "python",
      "pygments_lexer": "ipython3",
      "version": "3.10.15"
    }
  },
  "nbformat": 4,
  "nbformat_minor": 0
}