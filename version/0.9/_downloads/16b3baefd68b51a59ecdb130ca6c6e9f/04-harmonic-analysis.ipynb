{
  "cells": [
    {
      "cell_type": "markdown",
      "metadata": {},
      "source": [
        "Harmonic analysis {#ref_harmonic_analysis}\n=================\n\nThis example shows how you can post-process a result file for a harmonic\nanalysis using PyDPF-Post.\n"
      ]
    },
    {
      "cell_type": "markdown",
      "metadata": {},
      "source": [
        "Perform required imports\n========================\n\nPerform required imports.\n"
      ]
    },
    {
      "cell_type": "code",
      "execution_count": null,
      "metadata": {
        "collapsed": false
      },
      "outputs": [],
      "source": [
        "from ansys.dpf import post\nfrom ansys.dpf.post import examples"
      ]
    },
    {
      "cell_type": "markdown",
      "metadata": {},
      "source": [
        "Get `Solution` object\n=====================\n\nGet the `Solution` object. This example loads a result file for an\nharmonic analysis computed in Ansys Mechanical.\n"
      ]
    },
    {
      "cell_type": "code",
      "execution_count": null,
      "metadata": {
        "collapsed": false
      },
      "outputs": [],
      "source": [
        "example_path = examples.download_all_kinds_of_complexity()\n\nsolution = post.load_solution(examples.complex_rst)\nprint(solution)"
      ]
    },
    {
      "cell_type": "markdown",
      "metadata": {},
      "source": [
        "Get `Result` objects\n====================\n"
      ]
    },
    {
      "cell_type": "markdown",
      "metadata": {},
      "source": [
        "Get displacement result\n=======================\n\nGet the displacement `Result` object. It contains a field for real\nvalues and a field for imaginary values.\n"
      ]
    },
    {
      "cell_type": "code",
      "execution_count": null,
      "metadata": {
        "collapsed": false
      },
      "outputs": [],
      "source": [
        "disp_result = solution.displacement()\ndisp = disp_result.vector"
      ]
    },
    {
      "cell_type": "markdown",
      "metadata": {},
      "source": [
        "Check number of fields\n======================\n\nCheck the number of fields.\n"
      ]
    },
    {
      "cell_type": "code",
      "execution_count": null,
      "metadata": {
        "collapsed": false
      },
      "outputs": [],
      "source": [
        "disp.num_fields"
      ]
    },
    {
      "cell_type": "markdown",
      "metadata": {},
      "source": [
        "Get data from field\n===================\n\nGet data from a field.\n"
      ]
    },
    {
      "cell_type": "code",
      "execution_count": null,
      "metadata": {
        "collapsed": false
      },
      "outputs": [],
      "source": [
        "disp.get_data_at_field(0)"
      ]
    },
    {
      "cell_type": "markdown",
      "metadata": {},
      "source": [
        "Get maximum data value over all fields\n======================================\n\nGet the maximum data value over all fields.\n"
      ]
    },
    {
      "cell_type": "code",
      "execution_count": null,
      "metadata": {
        "collapsed": false
      },
      "outputs": [],
      "source": [
        "disp.max_data"
      ]
    },
    {
      "cell_type": "markdown",
      "metadata": {},
      "source": [
        "Get minimum data value over all fields\n======================================\n\nGet the minimum data value over all fields.\n"
      ]
    },
    {
      "cell_type": "code",
      "execution_count": null,
      "metadata": {
        "collapsed": false
      },
      "outputs": [],
      "source": [
        "disp.min_data"
      ]
    },
    {
      "cell_type": "markdown",
      "metadata": {},
      "source": [
        "Get maximum data value over targeted field\n==========================================\n\nGet the maximum data value over a targeted field.\n"
      ]
    },
    {
      "cell_type": "code",
      "execution_count": null,
      "metadata": {
        "collapsed": false
      },
      "outputs": [],
      "source": [
        "disp.get_max_data_at_field(0)"
      ]
    },
    {
      "cell_type": "markdown",
      "metadata": {},
      "source": [
        "Get minimum data value over all fields\n======================================\n\nGet the minimum data value over all fields.\n"
      ]
    },
    {
      "cell_type": "code",
      "execution_count": null,
      "metadata": {
        "collapsed": false
      },
      "outputs": [],
      "source": [
        "disp.get_min_data_at_field(0)"
      ]
    },
    {
      "cell_type": "markdown",
      "metadata": {},
      "source": [
        "Get stress result\n=================\n\nGet a stress result that deals with amplitude. It contains a field for\nreal values and a field for imaginary values.\n"
      ]
    },
    {
      "cell_type": "code",
      "execution_count": null,
      "metadata": {
        "collapsed": false
      },
      "outputs": [],
      "source": [
        "stress_result = solution.stress()"
      ]
    },
    {
      "cell_type": "markdown",
      "metadata": {},
      "source": [
        "Check if support has complex frequencies\n========================================\n\nCheck if the support has complex frequencies.\n"
      ]
    },
    {
      "cell_type": "code",
      "execution_count": null,
      "metadata": {
        "collapsed": false
      },
      "outputs": [],
      "source": [
        "stress_result.has_complex_frequencies()"
      ]
    },
    {
      "cell_type": "markdown",
      "metadata": {},
      "source": [
        "Get tensor result\n=================\n\nGet the `Result` for a tensor.\n"
      ]
    },
    {
      "cell_type": "code",
      "execution_count": null,
      "metadata": {
        "collapsed": false
      },
      "outputs": [],
      "source": [
        "stress = stress_result.tensor\n\n# Check number of fields\n# ~~~~~~~~~~~~~~~~~~~~~~\n# Check the number of shell and solid elements in distinct fields. Shell and\n# solid elements are in distinct fields. Thus, you have four fields: the\n# solid-real one, the solid-imaginary one, the shell-real one, and the\n# shell-imaginary one.\n\nstress.num_fields"
      ]
    },
    {
      "cell_type": "markdown",
      "metadata": {},
      "source": [
        "Get shell field\n===============\n\nGet the shell field.\n"
      ]
    },
    {
      "cell_type": "code",
      "execution_count": null,
      "metadata": {
        "collapsed": false
      },
      "outputs": [],
      "source": [
        "shell_field = stress[0]\nshell_field.shell_layers"
      ]
    },
    {
      "cell_type": "markdown",
      "metadata": {},
      "source": [
        "Get solid field\n===============\n\nGet the solid field.\n"
      ]
    },
    {
      "cell_type": "code",
      "execution_count": null,
      "metadata": {
        "collapsed": false
      },
      "outputs": [],
      "source": [
        "solid_field = stress[1]"
      ]
    },
    {
      "cell_type": "markdown",
      "metadata": {},
      "source": [
        "Plot amplitude contour\n======================\n\nPlot the amplitude contour.\n"
      ]
    },
    {
      "cell_type": "code",
      "execution_count": null,
      "metadata": {
        "collapsed": false
      },
      "outputs": [],
      "source": [
        "amplitude = stress_result.tensor_amplitude\namplitude.plot_contour()"
      ]
    },
    {
      "cell_type": "markdown",
      "metadata": {},
      "source": [
        "Get elastic strain result\n=========================\n\nGet an elastic strain result that deals with phase. It contains a field\nfor real values and a field for imaginary values.\n"
      ]
    },
    {
      "cell_type": "code",
      "execution_count": null,
      "metadata": {
        "collapsed": false
      },
      "outputs": [],
      "source": [
        "elastic_strain_result = solution.elastic_strain()\nelastic_strain = elastic_strain_result.tensor\n# shell and solid elements are in distinct fields.\nelastic_strain.num_fields"
      ]
    },
    {
      "cell_type": "markdown",
      "metadata": {},
      "source": [
        "Define phase\n============\n\nDefine the phase. The phase must be a float value. The unit is degrees.\n"
      ]
    },
    {
      "cell_type": "code",
      "execution_count": null,
      "metadata": {
        "collapsed": false
      },
      "outputs": [],
      "source": [
        "es_at_phase = elastic_strain_result.tensor_at_phase(39.0)\nes_at_phase.max_data\nes_at_phase.num_fields\nreal_field = elastic_strain_result.tensor_at_phase(0.0)\nimg_field = elastic_strain_result.tensor_at_phase(90.0)"
      ]
    },
    {
      "cell_type": "markdown",
      "metadata": {},
      "source": [
        "If the result file contains results, you can use this method to get the\nelastic strain result.\n"
      ]
    },
    {
      "cell_type": "code",
      "execution_count": null,
      "metadata": {
        "collapsed": false
      },
      "outputs": [],
      "source": [
        "print(solution.elastic_strain())"
      ]
    }
  ],
  "metadata": {
    "kernelspec": {
      "display_name": "Python 3",
      "language": "python",
      "name": "python3"
    },
    "language_info": {
      "codemirror_mode": {
        "name": "ipython",
        "version": 3
      },
      "file_extension": ".py",
      "mimetype": "text/x-python",
      "name": "python",
      "nbconvert_exporter": "python",
      "pygments_lexer": "ipython3",
      "version": "3.10.15"
    }
  },
  "nbformat": 4,
  "nbformat_minor": 0
}