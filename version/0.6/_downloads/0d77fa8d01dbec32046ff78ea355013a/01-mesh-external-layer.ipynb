{
  "cells": [
    {
      "cell_type": "markdown",
      "metadata": {},
      "source": [
        "Reduce Model Size by using Mesh External Layer for Result and Mesh extraction {#ref_mesh_external_layer_example}\n=============================================================================\n\nThis example displays post-processing on a mesh external layer for a\nstatic analysis. The external layer is the layer of solid elements with\nat least one facet facing the outside of the geometry. This feature is\navailable for all types of Mechanical simulation, and allows you to\nreduce the size of the mesh and of the extracted data to improve\nprocessing performance. Since larger stress and strains are usually\nlocated on the skin of a model, computing the results on the external\nlayer provides equivalent maximum values in most cases.\n"
      ]
    },
    {
      "cell_type": "markdown",
      "metadata": {},
      "source": [
        "Perform required imports\n========================\n\nThis example uses a supplied file that you can get using the `examples`\nmodule.\n"
      ]
    },
    {
      "cell_type": "code",
      "execution_count": null,
      "metadata": {
        "collapsed": false
      },
      "outputs": [],
      "source": [
        "from ansys.dpf import post\nfrom ansys.dpf.post import examples"
      ]
    },
    {
      "cell_type": "markdown",
      "metadata": {},
      "source": [
        "Get `Simulation` object\n=======================\n\nGet the `Simulation` object that allows access to the result. The\n`Simulation` object must be instantiated with the path for the result\nfile. For example, `\"C:/Users/user/my_result.rst\"` on Windows or\n`\"/home/user/my_result.rst\"` on Linux.\n"
      ]
    },
    {
      "cell_type": "code",
      "execution_count": null,
      "metadata": {
        "collapsed": false
      },
      "outputs": [],
      "source": [
        "example_path = examples.download_crankshaft()\n# to automatically detect the simulation type, use:\nsimulation = post.load_simulation(example_path)\n\n# to enable auto-completion, use the equivalent:\nsimulation = post.StaticMechanicalSimulation(example_path)\n\n# print the simulation to get an overview of what's available\nprint(simulation)"
      ]
    },
    {
      "cell_type": "markdown",
      "metadata": {},
      "source": [
        "Extract displacement data\n=========================\n\nExtract displacement data on the external layer.\n"
      ]
    },
    {
      "cell_type": "code",
      "execution_count": null,
      "metadata": {
        "collapsed": false
      },
      "outputs": [],
      "source": [
        "displacement_ext = simulation.displacement(\n    external_layer=True\n)  # default is external_layer=False\ndisplacement_ext.plot()\n\nprint(\n    f\"number of nodes with external_layer=True: {len(displacement_ext.index.mesh_index)}\"\n)\nprint(f\"number of nodes with external_layer=False: {len(simulation.mesh.node_ids)}\")"
      ]
    },
    {
      "cell_type": "markdown",
      "metadata": {},
      "source": [
        "Extract stress/strain data\n==========================\n\nExtract stress or elastic strain data on the external layer. Averaging,\nand invariants computation can easily be done on the external layer\nsince the connectivity of the external layer elements remains unchanged.\n"
      ]
    },
    {
      "cell_type": "code",
      "execution_count": null,
      "metadata": {
        "collapsed": false
      },
      "outputs": [],
      "source": [
        "elemental_stress_ext = simulation.stress_principal_elemental(\n    components=[1], external_layer=True\n)\nelemental_stress_ext.plot()\n\nprint(\n    f\"number of elements with external_layer=True: {len(elemental_stress_ext.index.mesh_index)}\"\n)\nprint(\n    f\"number of elements with external_layer=False: {len(simulation.mesh.element_ids)}\"\n)\n\nelastic_strain_eqv_ext = simulation.elastic_strain_eqv_von_mises_nodal(\n    external_layer=True\n)\nelastic_strain_eqv_ext.plot()"
      ]
    },
    {
      "cell_type": "markdown",
      "metadata": {},
      "source": [
        "Extract the external layer on a selection of elements\n=====================================================\n"
      ]
    },
    {
      "cell_type": "code",
      "execution_count": null,
      "metadata": {
        "collapsed": false
      },
      "outputs": [],
      "source": [
        "all_elements = simulation.mesh.element_ids\nelements = []\nfor i in range(0, int(all_elements.size / 2)):\n    elements.append(all_elements[i])\nelemental_stress_ext = simulation.stress_principal_elemental(external_layer=elements)\nelemental_stress_ext.plot()"
      ]
    },
    {
      "cell_type": "markdown",
      "metadata": {},
      "source": [
        "Extract the external layer on a selection of elements for nodal results\n=======================================================================\n"
      ]
    },
    {
      "cell_type": "code",
      "execution_count": null,
      "metadata": {
        "collapsed": false
      },
      "outputs": [],
      "source": [
        "elastic_strain_eqv_ext = simulation.elastic_strain_eqv_von_mises_nodal(\n    external_layer=elements\n)\nelastic_strain_eqv_ext.plot()"
      ]
    },
    {
      "cell_type": "markdown",
      "metadata": {},
      "source": [
        "Extract the external layer on a selection of elements and scope results\n=======================================================================\n"
      ]
    },
    {
      "cell_type": "code",
      "execution_count": null,
      "metadata": {
        "collapsed": false
      },
      "outputs": [],
      "source": [
        "sub_elements = []\nfor i in range(0, int(len(elements) / 2)):\n    sub_elements.append(elements[i])\nelemental_stress_ext = simulation.stress_principal_elemental(\n    external_layer=elements, element_ids=sub_elements\n)\nelemental_stress_ext.plot()"
      ]
    }
  ],
  "metadata": {
    "kernelspec": {
      "display_name": "Python 3",
      "language": "python",
      "name": "python3"
    },
    "language_info": {
      "codemirror_mode": {
        "name": "ipython",
        "version": 3
      },
      "file_extension": ".py",
      "mimetype": "text/x-python",
      "name": "python",
      "nbconvert_exporter": "python",
      "pygments_lexer": "ipython3",
      "version": "3.10.13"
    }
  },
  "nbformat": 4,
  "nbformat_minor": 0
}