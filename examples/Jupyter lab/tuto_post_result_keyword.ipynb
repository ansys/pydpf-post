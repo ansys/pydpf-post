{
 "cells": [
  {
   "cell_type": "markdown",
   "metadata": {},
   "source": [
    "# This tutorial shows how to get more precise result with keywords while calling a result from a solution object"
   ]
  },
  {
   "cell_type": "markdown",
   "metadata": {},
   "source": [
    "### Get the result object"
   ]
  },
  {
   "cell_type": "code",
   "execution_count": 1,
   "metadata": {},
   "outputs": [
    {
     "name": "stdout",
     "output_type": "stream",
     "text": [
      "server started at --address 10.110.2.65 --port 50052\n"
     ]
    }
   ],
   "source": [
    "from ansys.dpf import post\n",
    "solution = post.load_solution(\"d:/rst/static_twobodies_ns.rst\")"
   ]
  },
  {
   "cell_type": "markdown",
   "metadata": {},
   "source": [
    "### Get the keyword list"
   ]
  },
  {
   "cell_type": "code",
   "execution_count": 2,
   "metadata": {},
   "outputs": [
    {
     "name": "stdout",
     "output_type": "stream",
     "text": [
      "element_scoping: list, int or dpf.core.Scoping\n",
      "grouping: str. Use post.grouping.(...) as helper.\n",
      "location: str. Use post.locations.(...) as helper.\n",
      "mapdl_grouping: int. Write 186 to get mapdl_elements solid_186.\n",
      "named_selection: str. Name of named_selection.\n",
      "node_scoping: list, int or dpf.core.Scoping\n",
      "set: int\n",
      "time: float\n",
      "time_scoping: list, int or dpf.core.Scoping\n",
      "\n"
     ]
    }
   ],
   "source": [
    "post.print_available_keywords()"
   ]
  },
  {
   "cell_type": "markdown",
   "metadata": {},
   "source": [
    "### Use a scoping on result"
   ]
  },
  {
   "cell_type": "code",
   "execution_count": 3,
   "metadata": {},
   "outputs": [],
   "source": [
    "displacement_result = solution.displacement(location = post.locations.nodal, node_scoping = [1, 2, 3]) #default location is nodal\n",
    "displacement = displacement_result.vector"
   ]
  },
  {
   "cell_type": "code",
   "execution_count": 4,
   "metadata": {},
   "outputs": [
    {
     "data": {
      "text/plain": [
       "array([[ 0.00379735,  0.04473428,  0.00831521],\n",
       "       [ 0.00254443,  0.04473239,  0.00067533],\n",
       "       [ 0.00129122,  0.04473354, -0.00696479]])"
      ]
     },
     "execution_count": 4,
     "metadata": {},
     "output_type": "execute_result"
    }
   ],
   "source": [
    "displacement.get_data_at_field(0)"
   ]
  },
  {
   "cell_type": "code",
   "execution_count": 5,
   "metadata": {},
   "outputs": [],
   "source": [
    "stress_with_elem_scop_result = solution.stress(location = post.locations.elemental_nodal, element_scoping = [1])\n",
    "stress_with_elem_scop = stress_with_elem_scop_result.tensor"
   ]
  },
  {
   "cell_type": "code",
   "execution_count": 6,
   "metadata": {},
   "outputs": [
    {
     "data": {
      "text/plain": [
       "array([[-7.76947840e+08,  2.30038374e+09,  1.79927373e+09,\n",
       "        -5.30445504e+08, -6.89238528e+08,  1.00718451e+09],\n",
       "       [-8.34727552e+08,  5.74724864e+08,  4.41359923e+09,\n",
       "         6.39719080e+07,  2.51828634e+09,  1.39846362e+09],\n",
       "       [-5.50896640e+08,  7.95577856e+08,  5.93578957e+09,\n",
       "         2.70925888e+08, -2.62505232e+08,  2.07582515e+09],\n",
       "       [-6.12245504e+08,  1.05938989e+09,  4.76268544e+09,\n",
       "         1.49492390e+09,  7.03467072e+08,  1.08908582e+09],\n",
       "       [-2.09427174e+09, -6.03949312e+09,  9.34414438e+09,\n",
       "         3.42422426e+09,  2.58427725e+09,  5.90829261e+09],\n",
       "       [ 1.95679718e+09, -1.90205555e+09,  1.60553646e+10,\n",
       "        -8.90331584e+08, -2.48762189e+09,  5.10888960e+09],\n",
       "       [-3.04948582e+09,  1.24922099e+09,  1.08264899e+10,\n",
       "         6.53856384e+08,  1.12002701e+09,  4.68143821e+09],\n",
       "       [ 6.68166272e+08, -6.60018176e+08,  1.53434348e+10,\n",
       "        -1.36846669e+09, -2.75138440e+07,  3.22212838e+09]])"
      ]
     },
     "execution_count": 6,
     "metadata": {},
     "output_type": "execute_result"
    }
   ],
   "source": [
    "stress_with_elem_scop.get_data_at_field(0)"
   ]
  },
  {
   "cell_type": "markdown",
   "metadata": {},
   "source": [
    "### Use a named selection on result (MAPDL named_selection name must be written using UPPER CASE)"
   ]
  },
  {
   "cell_type": "code",
   "execution_count": 7,
   "metadata": {},
   "outputs": [],
   "source": [
    "stress_on_ns_result = solution.stress(location = post.locations.elemental_nodal, named_selection=\"SELECTION\") #MAPDL named_selection name must be written is upper case\n",
    "stress_on_ns = stress_on_ns_result.tensor"
   ]
  },
  {
   "cell_type": "code",
   "execution_count": 8,
   "metadata": {},
   "outputs": [
    {
     "data": {
      "text/plain": [
       "1"
      ]
     },
     "execution_count": 8,
     "metadata": {},
     "output_type": "execute_result"
    }
   ],
   "source": [
    "stress_on_ns.num_fields"
   ]
  },
  {
   "cell_type": "code",
   "execution_count": 9,
   "metadata": {},
   "outputs": [
    {
     "data": {
      "text/plain": [
       "24480"
      ]
     },
     "execution_count": 9,
     "metadata": {},
     "output_type": "execute_result"
    }
   ],
   "source": [
    "len(stress_on_ns[0])"
   ]
  },
  {
   "cell_type": "markdown",
   "metadata": {},
   "source": [
    "### Get a subresult"
   ]
  },
  {
   "cell_type": "code",
   "execution_count": 10,
   "metadata": {},
   "outputs": [],
   "source": [
    "disp_x = displacement_result.x"
   ]
  },
  {
   "cell_type": "code",
   "execution_count": 11,
   "metadata": {},
   "outputs": [],
   "source": [
    "stress_yz = stress_with_elem_scop_result.yz"
   ]
  },
  {
   "cell_type": "code",
   "execution_count": 12,
   "metadata": {},
   "outputs": [],
   "source": [
    "stress_principal_1 = stress_on_ns_result.principal_3"
   ]
  },
  {
   "cell_type": "markdown",
   "metadata": {},
   "source": [
    "### Filter on a time / time_scoping / a set"
   ]
  },
  {
   "cell_type": "code",
   "execution_count": 13,
   "metadata": {},
   "outputs": [
    {
     "name": "stdout",
     "output_type": "stream",
     "text": [
      "Time/Frequency Info:\n",
      "\tNumber of sets: 1\n",
      "\n",
      "With complex values\n",
      " \n",
      " Cumulative      Time (s)       Loadstep     Substep   \n",
      "     1             1.0             1            1      \n",
      "\n"
     ]
    }
   ],
   "source": [
    "print(solution.time_freq_support)"
   ]
  },
  {
   "cell_type": "code",
   "execution_count": 14,
   "metadata": {},
   "outputs": [],
   "source": [
    "stress_on_time_1s_result = solution.stress(time = 1.)\n",
    "stress_on_time_1s = stress_on_time_1s_result.tensor"
   ]
  },
  {
   "cell_type": "code",
   "execution_count": 15,
   "metadata": {},
   "outputs": [],
   "source": [
    "displacement_on_set_1_result = solution.displacement(set = 1)\n",
    "displacement_on_set_1 = displacement_on_set_1_result.vector"
   ]
  },
  {
   "cell_type": "code",
   "execution_count": 16,
   "metadata": {},
   "outputs": [],
   "source": [
    "elastic_strain_with_time_scoping_result = solution.elastic_strain(time_scoping = [1, 3])\n",
    "elastic_strain_with_time_scoping = elastic_strain_with_time_scoping_result.tensor"
   ]
  },
  {
   "cell_type": "markdown",
   "metadata": {},
   "source": [
    "### Make a grouping"
   ]
  },
  {
   "cell_type": "code",
   "execution_count": 17,
   "metadata": {},
   "outputs": [],
   "source": [
    "displacement_result = solution.displacement(grouping = post.grouping.by_el_shape)\n",
    "displacement_by_el_shape = displacement_result.vector"
   ]
  },
  {
   "cell_type": "code",
   "execution_count": 18,
   "metadata": {},
   "outputs": [],
   "source": [
    "stress_result = solution.stress(mapdl_grouping = 186) #will filter only MAPDL elements of type solid 186\n",
    "stress_on_solid_186 = stress_result.tensor"
   ]
  },
  {
   "cell_type": "markdown",
   "metadata": {},
   "source": [
    "## Manipulate the result object and change its definition"
   ]
  },
  {
   "cell_type": "code",
   "execution_count": 19,
   "metadata": {},
   "outputs": [
    {
     "name": "stdout",
     "output_type": "stream",
     "text": [
      "Stress. \n",
      "Tensor object. \n",
      "\n",
      "Object properties are: \n",
      " - location = ElementalNodal\n",
      " - named_selection = SELECTION\n",
      "\n"
     ]
    }
   ],
   "source": [
    "print(stress_on_ns_result)"
   ]
  },
  {
   "cell_type": "code",
   "execution_count": 20,
   "metadata": {},
   "outputs": [
    {
     "data": {
      "text/plain": [
       "'ElementalNodal'"
      ]
     },
     "execution_count": 20,
     "metadata": {},
     "output_type": "execute_result"
    }
   ],
   "source": [
    "stress_on_ns_result.definition.location"
   ]
  },
  {
   "cell_type": "code",
   "execution_count": 25,
   "metadata": {},
   "outputs": [],
   "source": [
    "stress_on_ns_result.definition.location = post.locations.elemental\n",
    "stress_on_ns_result.definition.time = 1.\n",
    "stress_on_ns_elemental = stress_on_ns_result.tensor"
   ]
  },
  {
   "cell_type": "code",
   "execution_count": 26,
   "metadata": {},
   "outputs": [
    {
     "name": "stdout",
     "output_type": "stream",
     "text": [
      "Stress. \n",
      "Tensor object. \n",
      "\n",
      "Object properties are: \n",
      " - location = Elemental\n",
      " - named_selection = SELECTION\n",
      " - time = 1.0\n",
      "\n"
     ]
    }
   ],
   "source": [
    "print(stress_on_ns_result)"
   ]
  },
  {
   "cell_type": "markdown",
   "metadata": {},
   "source": [
    "## Use the misc. results"
   ]
  },
  {
   "cell_type": "markdown",
   "metadata": {},
   "source": [
    "##### Same keywords can be used here. For complex result, the keyword \"phase\" (float) can also be used."
   ]
  },
  {
   "cell_type": "code",
   "execution_count": 32,
   "metadata": {},
   "outputs": [
    {
     "name": "stdout",
     "output_type": "stream",
     "text": [
      "Stress result.\n",
      "\n",
      "The result is computed thanks to dpf.core.Operator objects, that are chained together regarding the following list: \n",
      "- ENL_SRAT: Result operator. Compute the wanted result\n",
      "- to_elemental_fc: This operator will compute the elemental averaging of a fields container.\n",
      "\n"
     ]
    }
   ],
   "source": [
    "stress_ratio = solution.misc.elemental_stress_ratio(node_scoping = [1, 32], time = 1.)\n",
    "print(stress_ratio)"
   ]
  },
  {
   "cell_type": "code",
   "execution_count": 28,
   "metadata": {},
   "outputs": [
    {
     "data": {
      "text/plain": [
       "1"
      ]
     },
     "execution_count": 28,
     "metadata": {},
     "output_type": "execute_result"
    }
   ],
   "source": [
    "stress_ratio.num_fields"
   ]
  },
  {
   "cell_type": "code",
   "execution_count": null,
   "metadata": {},
   "outputs": [],
   "source": [
    "stress_ratio.max_data"
   ]
  }
 ],
 "metadata": {
  "kernelspec": {
   "display_name": "Python 3",
   "language": "python",
   "name": "python3"
  },
  "language_info": {
   "codemirror_mode": {
    "name": "ipython",
    "version": 3
   },
   "file_extension": ".py",
   "mimetype": "text/x-python",
   "name": "python",
   "nbconvert_exporter": "python",
   "pygments_lexer": "ipython3",
   "version": "3.7.6"
  }
 },
 "nbformat": 4,
 "nbformat_minor": 4
}
