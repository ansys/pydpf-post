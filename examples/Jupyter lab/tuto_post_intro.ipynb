{
 "cells": [
  {
   "cell_type": "markdown",
   "metadata": {},
   "source": [
    "# Basic tutorial introducing the starting API of the post package"
   ]
  },
  {
   "cell_type": "markdown",
   "metadata": {},
   "source": [
    "## Start ansys.post module "
   ]
  },
  {
   "cell_type": "code",
   "execution_count": 1,
   "metadata": {},
   "outputs": [
    {
     "name": "stdout",
     "output_type": "stream",
     "text": [
      "server started at --address 10.110.2.65 --port 50052\n"
     ]
    }
   ],
   "source": [
    "from ansys.dpf import post"
   ]
  },
  {
   "cell_type": "markdown",
   "metadata": {},
   "source": [
    "## Load a solution"
   ]
  },
  {
   "cell_type": "code",
   "execution_count": 4,
   "metadata": {},
   "outputs": [],
   "source": [
    "solution = post.load_solution(\"d:/rst/static.rst\")"
   ]
  },
  {
   "cell_type": "markdown",
   "metadata": {},
   "source": [
    "## Use the helpers"
   ]
  },
  {
   "cell_type": "code",
   "execution_count": 11,
   "metadata": {},
   "outputs": [
    {
     "name": "stdout",
     "output_type": "stream",
     "text": [
      "Static result object.\n",
      "\n",
      "\n",
      "Data Sources\n",
      "------------------------------\n",
      "DPF data_sources with result key: rst \n",
      "paths: {'rst': ['d:/rst/static.rst']}\n",
      "\n",
      "\n",
      "DPF Model\n",
      "------------------------------\n",
      "Static analysis\n",
      "Unit system: Metric (m, kg, N, s, V, A)\n",
      "Physics Type: Mecanic\n",
      "Available results:\n",
      "     -  displacement                  \n",
      "     -  force                         \n",
      "     -  stress                        \n",
      "     -  volume                        \n",
      "     -  energy_stiffness_matrix       \n",
      "     -  hourglass_energy              \n",
      "     -  thermal_dissipation_energy    \n",
      "     -  kinetic_energy                \n",
      "     -  co_energy                     \n",
      "     -  incremental_energy            \n",
      "     -  strain                        \n",
      "     -  temperature                   \n",
      "------------------------------\n",
      "Meshed Region\n",
      "\t81 nodes\n",
      "\t8 elements\n",
      "\tUnit: m \n",
      "------------------------------\n",
      "Time/Frequency Info:\n",
      "\tNumber of sets: 1\n",
      "\n",
      "With complex values\n",
      " \n",
      " Cumulative      Time (s)       Loadstep     Substep   \n",
      "     1             1.0             1            1      \n",
      "\n"
     ]
    }
   ],
   "source": [
    "print(solution)"
   ]
  },
  {
   "cell_type": "code",
   "execution_count": 10,
   "metadata": {},
   "outputs": [
    {
     "name": "stdout",
     "output_type": "stream",
     "text": [
      "Static analysis\n",
      "Unit system: Metric (m, kg, N, s, V, A)\n",
      "Physics Type: Mecanic\n",
      "Available results:\n",
      "     -  displacement                  \n",
      "     -  force                         \n",
      "     -  stress                        \n",
      "     -  volume                        \n",
      "     -  energy_stiffness_matrix       \n",
      "     -  hourglass_energy              \n",
      "     -  thermal_dissipation_energy    \n",
      "     -  kinetic_energy                \n",
      "     -  co_energy                     \n",
      "     -  incremental_energy            \n",
      "     -  strain                        \n",
      "     -  temperature                   \n",
      "\n"
     ]
    }
   ],
   "source": [
    "print(solution.get_result_info())"
   ]
  },
  {
   "cell_type": "code",
   "execution_count": 8,
   "metadata": {},
   "outputs": [
    {
     "name": "stdout",
     "output_type": "stream",
     "text": [
      "Help on class locations in module ansys.dpf.core.common:\n",
      "\n",
      "class locations(builtins.object)\n",
      " |  Contains python field types\n",
      " |  \n",
      " |  Data descriptors defined here:\n",
      " |  \n",
      " |  __dict__\n",
      " |      dictionary for instance variables (if defined)\n",
      " |  \n",
      " |  __weakref__\n",
      " |      list of weak references to the object (if defined)\n",
      " |  \n",
      " |  ----------------------------------------------------------------------\n",
      " |  Data and other attributes defined here:\n",
      " |  \n",
      " |  elemental = 'Elemental'\n",
      " |  \n",
      " |  elemental_nodal = 'ElementalNodal'\n",
      " |  \n",
      " |  nodal = 'Nodal'\n",
      " |  \n",
      " |  none = 'none'\n",
      " |  \n",
      " |  overall = 'overall'\n",
      " |  \n",
      " |  time_freq = 'TimeFreq_sets'\n",
      "\n"
     ]
    }
   ],
   "source": [
    "help(post.locations)"
   ]
  },
  {
   "cell_type": "code",
   "execution_count": 9,
   "metadata": {},
   "outputs": [
    {
     "name": "stdout",
     "output_type": "stream",
     "text": [
      "element_scoping: list, int or dpf.core.Scoping\n",
      "grouping: str. Use post.grouping.(...) as helper.\n",
      "location: str. Use post.locations.(...) as helper.\n",
      "mapdl_grouping: int. Write 186 to get mapdl_elements solid_186.\n",
      "named_selection: str. Name of named_selection.\n",
      "node_scoping: list, int or dpf.core.Scoping\n",
      "set: int\n",
      "time: float\n",
      "time_scoping: list, int or dpf.core.Scoping\n",
      "\n"
     ]
    }
   ],
   "source": [
    "post.print_available_keywords()"
   ]
  }
 ],
 "metadata": {
  "kernelspec": {
   "display_name": "Python 3",
   "language": "python",
   "name": "python3"
  },
  "language_info": {
   "codemirror_mode": {
    "name": "ipython",
    "version": 3
   },
   "file_extension": ".py",
   "mimetype": "text/x-python",
   "name": "python",
   "nbconvert_exporter": "python",
   "pygments_lexer": "ipython3",
   "version": "3.7.6"
  }
 },
 "nbformat": 4,
 "nbformat_minor": 4
}
