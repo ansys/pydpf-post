{
  "cells": [
    {
      "cell_type": "markdown",
      "metadata": {},
      "source": [
        "PyDPF-Post overview {#ref_overview_example}\n===================\n\nThis example provides an overview of how you use PyDPF-Post.\n"
      ]
    },
    {
      "cell_type": "markdown",
      "metadata": {},
      "source": [
        "Perform required imports\n========================\n\nPerform required imports. \\# This example uses a supplied file that you\ncan get by importing the DPF `examples` package.\n"
      ]
    },
    {
      "cell_type": "code",
      "execution_count": null,
      "metadata": {
        "collapsed": false
      },
      "outputs": [],
      "source": [
        "from ansys.dpf import post\nfrom ansys.dpf.post import examples"
      ]
    },
    {
      "cell_type": "markdown",
      "metadata": {},
      "source": [
        "Get `Solution` object\n=====================\n\nGet the `Solution` object that allows access to the result. The\n`Solution` object must be instantiated with the path for the result\nfile. For example, `\"C:/Users/user/my_result.rst\"` on Windows or\n`\"/home/user/my_result.rst\"` on Linux.\n"
      ]
    },
    {
      "cell_type": "code",
      "execution_count": null,
      "metadata": {
        "collapsed": false
      },
      "outputs": [],
      "source": [
        "solution = post.load_solution(examples.multishells_rst)"
      ]
    },
    {
      "cell_type": "markdown",
      "metadata": {},
      "source": [
        "Get mesh and time frequency support\n===================================\n\nGet the mesh and time frequency support. The mesh is the support of the\nmodel. The time frequency support is the time/frequency representation\nof the model.\n"
      ]
    },
    {
      "cell_type": "code",
      "execution_count": null,
      "metadata": {
        "collapsed": false
      },
      "outputs": [],
      "source": [
        "mesh = solution.mesh\ntime_freq_support = solution.time_freq_support"
      ]
    },
    {
      "cell_type": "markdown",
      "metadata": {},
      "source": [
        "Get `Result` object\n===================\n\nGet a `Result` object from the `Solution` object. The `Result` object\ncan be a stress, plastic strain, elastic strain, temperature, or\ndisplacement.\n"
      ]
    },
    {
      "cell_type": "code",
      "execution_count": null,
      "metadata": {
        "collapsed": false
      },
      "outputs": [],
      "source": [
        "post.print_available_keywords()\nstress = solution.stress(location=post.locations.nodal, time_scoping=[1])\n\n# Both location and ``time_scoping`` are available in the definition of\n# the stress result.\n\nstress.definition.location\nstress.definition.time_scoping\n\nprint(stress)"
      ]
    },
    {
      "cell_type": "markdown",
      "metadata": {},
      "source": [
        "Compute data\n============\n\nCompute data.\n\n**SX subresult**\n\nThis code gets the subresult `SX`, which is the stress tensor in the XX\ndirection.\n"
      ]
    },
    {
      "cell_type": "code",
      "execution_count": null,
      "metadata": {
        "collapsed": false
      },
      "outputs": [],
      "source": [
        "sx = stress.xx\nsx.num_fields\nsx_field = sx[0]\nsx_data = sx.get_data_at_field(0)\nprint(\"Length of the data:\", len(sx_data))\nprint()\nprint(\"Maximum Stress Field:\\n\", sx.max)\nprint()\nprint(\"Maximum data at stress field:\", sx.max_data)\nprint(\"Maximum SX at Field 0:\", sx.get_max_data_at_field(0))"
      ]
    },
    {
      "cell_type": "markdown",
      "metadata": {},
      "source": [
        "**Stress tensor result**\n\nThis code gets the minimum and maximum stresses at a field for all\ndirections (`XX`, `XY`, `XZ`, `XY`, `YZ`, and `XZ`.\n"
      ]
    },
    {
      "cell_type": "code",
      "execution_count": null,
      "metadata": {
        "collapsed": false
      },
      "outputs": [],
      "source": [
        "s = stress.tensor\ns_field = s[0]\ns_data = sx.get_data_at_field(0)\nprint(\"Length of the data:\", len(s_data))\nprint()\nprint(\"Maximum stress field:\\n\", s.max)\nprint()\nprint(\"Maximum data at stress field:\", s.max_data)\nprint(\"Maximum stress tensors at field 0:\\n\", s.get_max_data_at_field(0))\n\nprint(\"Minimum stress field:\\n\", s.min)\nprint()\nprint(\"Minimum data at stress field:\", s.min_data)\nprint(\"Minimum stress tensors at field 0:\\n\", s.get_min_data_at_field(0))"
      ]
    },
    {
      "cell_type": "markdown",
      "metadata": {},
      "source": [
        "Plot result\n===========\n\nPlot a result by using the `plot_contour()` method.\n"
      ]
    },
    {
      "cell_type": "code",
      "execution_count": null,
      "metadata": {
        "collapsed": false
      },
      "outputs": [],
      "source": [
        "s.plot_contour()"
      ]
    }
  ],
  "metadata": {
    "kernelspec": {
      "display_name": "Python 3",
      "language": "python",
      "name": "python3"
    },
    "language_info": {
      "codemirror_mode": {
        "name": "ipython",
        "version": 3
      },
      "file_extension": ".py",
      "mimetype": "text/x-python",
      "name": "python",
      "nbconvert_exporter": "python",
      "pygments_lexer": "ipython3",
      "version": "3.10.13"
    }
  },
  "nbformat": 4,
  "nbformat_minor": 0
}