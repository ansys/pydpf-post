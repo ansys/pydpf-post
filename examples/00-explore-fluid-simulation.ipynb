{
  "cells": [
    {
      "cell_type": "markdown",
      "metadata": {},
      "source": [
        "# Exctarct fluid simulation results {#ref_fluid_example_extractions}\n\nThis example shows how to load a fluid simulation for a heating coil\nthat has been simulated with Ansys CFX, explore the metadata available,\nand use the result extraction capabilities.\n\n::: note\n::: title\nNote\n:::\n\nThis example requires DPF 7.0 (2024.1.pre0) or later. For more\ninformation, see `compatibility`{.interpreted-text role=\"ref\"}.\n:::\n"
      ]
    },
    {
      "cell_type": "markdown",
      "metadata": {},
      "source": [
        "# Perform required imports\n\nPerform required imports. This example uses a supplied file that you can\nget using the `examples` module.\n"
      ]
    },
    {
      "cell_type": "code",
      "execution_count": null,
      "metadata": {
        "collapsed": false
      },
      "outputs": [],
      "source": [
        "from ansys.dpf import post\nfrom ansys.dpf.post import examples"
      ]
    },
    {
      "cell_type": "markdown",
      "metadata": {},
      "source": [
        "# Load fluid analysis result\n"
      ]
    },
    {
      "cell_type": "code",
      "execution_count": null,
      "metadata": {
        "collapsed": false
      },
      "outputs": [],
      "source": [
        "fluid_example_files = examples.download_cfx_heating_coil()\nsimulation = post.FluidSimulation(\n    cas=fluid_example_files[\"cas\"], dat=fluid_example_files[\"dat\"]\n)\n# Print the simulation TO see most of the available metadata\nprint(simulation)"
      ]
    },
    {
      "cell_type": "markdown",
      "metadata": {},
      "source": [
        "# Explore available metadata\n\nCheck the available cell and face zones.\n"
      ]
    },
    {
      "cell_type": "code",
      "execution_count": null,
      "metadata": {
        "collapsed": false
      },
      "outputs": [],
      "source": [
        "print(simulation.cell_zones)\nprint(simulation.face_zones)"
      ]
    },
    {
      "cell_type": "markdown",
      "metadata": {},
      "source": [
        "The mesh metadata is available separately from the mesh as accessing the\nmesh means loading it. Use the `mesh_info` property to explore the mesh\nstructure to define queries.\n"
      ]
    },
    {
      "cell_type": "code",
      "execution_count": null,
      "metadata": {
        "collapsed": false
      },
      "outputs": [],
      "source": [
        "print(simulation.mesh_info)"
      ]
    },
    {
      "cell_type": "markdown",
      "metadata": {},
      "source": [
        "Check available species.\n"
      ]
    },
    {
      "cell_type": "code",
      "execution_count": null,
      "metadata": {
        "collapsed": false
      },
      "outputs": [],
      "source": [
        "print(simulation.species)"
      ]
    },
    {
      "cell_type": "markdown",
      "metadata": {},
      "source": [
        "Check available phases.\n"
      ]
    },
    {
      "cell_type": "code",
      "execution_count": null,
      "metadata": {
        "collapsed": false
      },
      "outputs": [],
      "source": [
        "print(simulation.phases)"
      ]
    },
    {
      "cell_type": "markdown",
      "metadata": {},
      "source": [
        "Check the metadata on available results\n"
      ]
    },
    {
      "cell_type": "code",
      "execution_count": null,
      "metadata": {
        "collapsed": false
      },
      "outputs": [],
      "source": [
        "print(simulation.result_info)"
      ]
    },
    {
      "cell_type": "markdown",
      "metadata": {},
      "source": [
        "# Extract a result\n\nPrint information about a specific available result.\n"
      ]
    },
    {
      "cell_type": "code",
      "execution_count": null,
      "metadata": {
        "collapsed": false
      },
      "outputs": [],
      "source": [
        "print(simulation.result_info[\"temperature\"])\n\n# Printing information using an index.\nprint(simulation.result_info[12])"
      ]
    },
    {
      "cell_type": "markdown",
      "metadata": {},
      "source": [
        "# Extract temperature data\n"
      ]
    },
    {
      "cell_type": "code",
      "execution_count": null,
      "metadata": {
        "collapsed": false
      },
      "outputs": [],
      "source": [
        "temperature = simulation.temperature()\nprint(temperature)\n\n# The resulting dataframe shows data for two different phases."
      ]
    },
    {
      "cell_type": "markdown",
      "metadata": {},
      "source": [
        "Select data for phase 2 (Water) only\n"
      ]
    },
    {
      "cell_type": "code",
      "execution_count": null,
      "metadata": {
        "collapsed": false
      },
      "outputs": [],
      "source": [
        "print(temperature.select(phase=[2]))"
      ]
    },
    {
      "cell_type": "markdown",
      "metadata": {},
      "source": [
        "To directly extract the temperature data for a given phase, pass the\n`temperature()` method a `phases` argument. This argument must be given\na list of phase unique IDs, which appear in the dataframe in the phase\nlabel column between parentheses, or as listed under the\n`Available qualifier labels` section of the metadata on the result. You\ncan also directly use the phase name.\n"
      ]
    },
    {
      "cell_type": "code",
      "execution_count": null,
      "metadata": {
        "collapsed": false
      },
      "outputs": [],
      "source": [
        "water_temperature = simulation.temperature(phases=[\"Water at 25 C\"])\n# equivalent to\n# water_temperature = simulation.temperature(phases=[2])\nprint(water_temperature)\n# # The resulting dataframe now only stores data for the Water phase."
      ]
    },
    {
      "cell_type": "markdown",
      "metadata": {},
      "source": [
        "To extract a result on given zones use the `zone_ids` argument or the\n`qualifiers` dictionary argument with the `zone` key. This code gets and\nplots the temperature on all face zones.\n"
      ]
    },
    {
      "cell_type": "code",
      "execution_count": null,
      "metadata": {
        "collapsed": false
      },
      "outputs": [],
      "source": [
        "face_temperature = simulation.temperature(zone_ids=list(simulation.face_zones.keys()))\nface_temperature.plot()"
      ]
    }
  ],
  "metadata": {
    "kernelspec": {
      "display_name": "Python 3",
      "language": "python",
      "name": "python3"
    },
    "language_info": {
      "codemirror_mode": {
        "name": "ipython",
        "version": 3
      },
      "file_extension": ".py",
      "mimetype": "text/x-python",
      "name": "python",
      "nbconvert_exporter": "python",
      "pygments_lexer": "ipython3",
      "version": "3.10.17"
    }
  },
  "nbformat": 4,
  "nbformat_minor": 0
}