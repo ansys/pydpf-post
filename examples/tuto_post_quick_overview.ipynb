{
 "cells": [
  {
   "cell_type": "markdown",
   "metadata": {},
   "source": [
    "#### Starts post service"
   ]
  },
  {
   "cell_type": "code",
   "execution_count": 4,
   "metadata": {},
   "outputs": [],
   "source": [
    "from ansys.dpf import post"
   ]
  },
  {
   "cell_type": "markdown",
   "metadata": {},
   "source": [
    "#### solution object"
   ]
  },
  {
   "cell_type": "code",
   "execution_count": 5,
   "metadata": {},
   "outputs": [],
   "source": [
    "solution = post.load_solution(\"d:/rst/twobodies.rst\")"
   ]
  },
  {
   "cell_type": "markdown",
   "metadata": {},
   "source": [
    "#### result object"
   ]
  },
  {
   "cell_type": "code",
   "execution_count": 6,
   "metadata": {},
   "outputs": [],
   "source": [
    "stress = solution.stress(location=post.locations.elemental, named_selection=\"SELECTION\", time_scoping=[1]) "
   ]
  },
  {
   "cell_type": "markdown",
   "metadata": {},
   "source": [
    "#### data wrapper"
   ]
  },
  {
   "cell_type": "code",
   "execution_count": 7,
   "metadata": {},
   "outputs": [],
   "source": [
    "sx = stress.xx\n",
    "s2 = stress.principal_2\n",
    "s = stress.tensor"
   ]
  },
  {
   "cell_type": "code",
   "execution_count": 8,
   "metadata": {},
   "outputs": [
    {
     "data": {
      "text/plain": [
       "array([3.38161987e+12])"
      ]
     },
     "execution_count": 8,
     "metadata": {},
     "output_type": "execute_result"
    }
   ],
   "source": [
    "sx.max_data"
   ]
  },
  {
   "cell_type": "code",
   "execution_count": 9,
   "metadata": {},
   "outputs": [
    {
     "data": {
      "text/plain": [
       "1"
      ]
     },
     "execution_count": 9,
     "metadata": {},
     "output_type": "execute_result"
    }
   ],
   "source": [
    "s2.num_fields"
   ]
  },
  {
   "cell_type": "code",
   "execution_count": 10,
   "metadata": {},
   "outputs": [
    {
     "data": {
      "text/plain": [
       "array([[-2.81019946e+12, -6.48149756e+11, -6.40452549e+12,\n",
       "         6.27870832e+10, -4.61583344e+11, -1.08277702e+11],\n",
       "       [ 0.00000000e+00, -2.61120000e+04,  3.27680000e+04,\n",
       "         1.19071083e+11, -2.13019230e+11, -5.37600000e+03],\n",
       "       [ 2.81019938e+12,  6.48149774e+11,  6.40452547e+12,\n",
       "         6.27870861e+10, -4.61583327e+11,  1.08277697e+11],\n",
       "       ...,\n",
       "       [-7.36733732e+10, -1.24412893e+09, -3.58014571e+12,\n",
       "        -4.76401482e+10, -3.32500900e+11, -4.00458809e+10],\n",
       "       [ 2.13760000e+04,  1.67360000e+04,  3.27680000e+04,\n",
       "        -9.47190354e+10, -6.14412202e+11,  3.20000000e+03],\n",
       "       [ 7.36733958e+10,  1.24413910e+09,  3.58014568e+12,\n",
       "        -4.76401466e+10, -3.32500897e+11,  4.00458902e+10]])"
      ]
     },
     "execution_count": 10,
     "metadata": {},
     "output_type": "execute_result"
    }
   ],
   "source": [
    "s.get_data_at_field(0) #equivalent to s[0].data"
   ]
  }
 ],
 "metadata": {
  "kernelspec": {
   "display_name": "Python 3",
   "language": "python",
   "name": "python3"
  },
  "language_info": {
   "codemirror_mode": {
    "name": "ipython",
    "version": 3
   },
   "file_extension": ".py",
   "mimetype": "text/x-python",
   "name": "python",
   "nbconvert_exporter": "python",
   "pygments_lexer": "ipython3",
   "version": "3.7.6"
  }
 },
 "nbformat": 4,
 "nbformat_minor": 4
}
