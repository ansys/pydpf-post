{
  "cells": [
    {
      "cell_type": "markdown",
      "metadata": {},
      "source": [
        "# Validate external layer results with the full mesh {#ref_mesh_external_layer_compare_example}\n\nThis example shows postprocessing comparisons based on how results and\nthe mesh are extracted:\n\n-   Results and mesh extracted only on the external layer\n-   Results and mesh extracted on the entire mesh\n\nThe external layer is the layer of solid elements with at least one\nfacet facing the outside of the geometry.\n\nThis feature, available for all types of mechanical simulation, allows\nyou to reduce the size of both the mesh and extracted data to improve\nprocessing performance. Because larger stresses and strains are usually\nlocated on the skin of a model, computing the results on the external\nlayer provides equivalent maximum values in most cases.\n"
      ]
    },
    {
      "cell_type": "markdown",
      "metadata": {},
      "source": [
        "# Perform required imports\n\nPerform required imports. This example uses a supplied file that you can\nget using the `examples` module.\n"
      ]
    },
    {
      "cell_type": "code",
      "execution_count": null,
      "metadata": {
        "collapsed": false
      },
      "outputs": [],
      "source": [
        "from ansys.dpf import post\nfrom ansys.dpf.post import examples"
      ]
    },
    {
      "cell_type": "markdown",
      "metadata": {},
      "source": [
        "# Get `Simulation` object\n\nGet the `Simulation` object that allows access to the result. The\n`Simulation` object must be instantiated with the path for the result\nfile. For example, `\"C:/Users/user/my_result.rst\"` on Windows or\n`\"/home/user/my_result.rst\"` on Linux.\n"
      ]
    },
    {
      "cell_type": "code",
      "execution_count": null,
      "metadata": {
        "collapsed": false
      },
      "outputs": [],
      "source": [
        "example_path = examples.download_crankshaft()\n# to automatically detect the simulation type, use:\nsimulation = post.load_simulation(example_path)\n\n# to enable auto-completion, use the equivalent:\nsimulation = post.StaticMechanicalSimulation(example_path)\n\n# print the simulation to get an overview of what's available\nprint(simulation)"
      ]
    },
    {
      "cell_type": "markdown",
      "metadata": {},
      "source": [
        "# Extract displacement data\n\nExtract displacement data over the entire mesh and on the external\nlayer.\n"
      ]
    },
    {
      "cell_type": "code",
      "execution_count": null,
      "metadata": {
        "collapsed": false
      },
      "outputs": [],
      "source": [
        "displacement_ext = simulation.displacement(external_layer=True)\ndisplacement = simulation.displacement()  # default is external_layer=False\ndisplacement_ext.plot()\ndisplacement.plot()\n\nprint(\n    f\"number of nodes with external_layer=True: {len(displacement_ext.index.mesh_index)}\"\n)\nprint(\n    f\"number of nodes with external_layer=False: {len(displacement.index.mesh_index)}\"\n)"
      ]
    },
    {
      "cell_type": "markdown",
      "metadata": {},
      "source": [
        "# Extract stress and strain data\n\nExtract stress and elastic strain data over the entire mesh and on the\nexternal layer. You can easily compute averages and invariants on the\nexternal layer because the connectivity of the kept elements remains\nunchanged.\n"
      ]
    },
    {
      "cell_type": "code",
      "execution_count": null,
      "metadata": {
        "collapsed": false
      },
      "outputs": [],
      "source": [
        "elemental_stress_ext = simulation.stress_principal_elemental(\n    components=[1], external_layer=True\n)\nelemental_stress = simulation.stress_principal_elemental()\nelemental_stress_ext.plot()\nelemental_stress.plot()\n\nprint(\n    f\"number of elements with external_layer=True: {len(elemental_stress_ext.index.mesh_index)}\"\n)\nprint(\n    f\"number of elements with external_layer=False: {len(elemental_stress.index.mesh_index)}\"\n)\n\nelastic_strain_eqv_ext = simulation.elastic_strain_eqv_von_mises_nodal(\n    external_layer=True\n)\nelastic_strain_eqv = simulation.elastic_strain_eqv_von_mises_nodal()\nelastic_strain_eqv_ext.plot()\nelastic_strain_eqv.plot()"
      ]
    }
  ],
  "metadata": {
    "kernelspec": {
      "display_name": "Python 3",
      "language": "python",
      "name": "python3"
    },
    "language_info": {
      "codemirror_mode": {
        "name": "ipython",
        "version": 3
      },
      "file_extension": ".py",
      "mimetype": "text/x-python",
      "name": "python",
      "nbconvert_exporter": "python",
      "pygments_lexer": "ipython3",
      "version": "3.10.17"
    }
  },
  "nbformat": 4,
  "nbformat_minor": 0
}