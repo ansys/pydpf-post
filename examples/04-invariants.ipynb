{
  "cells": [
    {
      "cell_type": "markdown",
      "metadata": {},
      "source": [
        "Extract stress/strain invariants - Static Simulation {#ref_invariants_example}\n====================================================\n\nIn this script a static simulation is used as an example to show how to\nextract tensor\\'s invariants.\n"
      ]
    },
    {
      "cell_type": "markdown",
      "metadata": {},
      "source": [
        "Perform required imports\n========================\n\nPerform required imports. \\# This example uses a supplied file that you\ncan get by importing the DPF `examples` package.\n"
      ]
    },
    {
      "cell_type": "code",
      "execution_count": null,
      "metadata": {
        "collapsed": false
      },
      "outputs": [],
      "source": [
        "from ansys.dpf import post\nfrom ansys.dpf.post import examples"
      ]
    },
    {
      "cell_type": "markdown",
      "metadata": {},
      "source": [
        "Get `Simulation` object\n=======================\n\nGet the `Simulation` object that allows access to the result. The\n`Simulation` object must be instantiated with the path for the result\nfile. For example, `\"C:/Users/user/my_result.rst\"` on Windows or\n`\"/home/user/my_result.rst\"` on Linux.\n"
      ]
    },
    {
      "cell_type": "code",
      "execution_count": null,
      "metadata": {
        "collapsed": false
      },
      "outputs": [],
      "source": [
        "example_path = examples.download_crankshaft()\n# to automatically detect the simulation type, use:\nsimulation = post.load_simulation(example_path)\n\n# to enable auto-completion, use the equivalent:\nsimulation = post.StaticMechanicalSimulation(example_path)\n\n# print the simulation to get an overview of what's available\nprint(simulation)"
      ]
    },
    {
      "cell_type": "markdown",
      "metadata": {},
      "source": [
        "Extract elemental nodal stress and strain\n=========================================\n"
      ]
    },
    {
      "cell_type": "code",
      "execution_count": null,
      "metadata": {
        "collapsed": false
      },
      "outputs": [],
      "source": [
        "stress = simulation.stress(all_sets=True)\nprint(stress)\n\nstrain = simulation.elastic_strain(all_sets=True)\nprint(strain)"
      ]
    },
    {
      "cell_type": "markdown",
      "metadata": {},
      "source": [
        "Compute principal invariant averaged and unaveraged on stress and strain\n========================================================================\n"
      ]
    },
    {
      "cell_type": "code",
      "execution_count": null,
      "metadata": {
        "collapsed": false
      },
      "outputs": [],
      "source": [
        "princ_stress_1 = simulation.stress_principal(components=[1])\nprint(princ_stress_1)\n\nnodal_princ_stress_2 = simulation.stress_principal_nodal(components=[2])\nprint(nodal_princ_stress_2)\nnodal_princ_stress_2.plot()\n\nnodal_princ_strain_2 = simulation.elastic_strain_principal_nodal(components=[2])\nprint(nodal_princ_strain_2)\nnodal_princ_strain_2.plot()"
      ]
    },
    {
      "cell_type": "markdown",
      "metadata": {},
      "source": [
        "Compute von Mises eqv averaged and unaveraged on stress and strain\n==================================================================\n"
      ]
    },
    {
      "cell_type": "code",
      "execution_count": null,
      "metadata": {
        "collapsed": false
      },
      "outputs": [],
      "source": [
        "stress_eqv = simulation.stress_eqv_von_mises(set_ids=[1])\nprint(stress_eqv)\n\nnodal_stress_eqv = simulation.stress_eqv_von_mises_nodal(set_ids=[1])\nnodal_stress_eqv.plot()\n\nnodal_strain_eqv = simulation.elastic_strain_eqv_von_mises_nodal(set_ids=[1])\nnodal_strain_eqv.plot()"
      ]
    }
  ],
  "metadata": {
    "kernelspec": {
      "display_name": "Python 3",
      "language": "python",
      "name": "python3"
    },
    "language_info": {
      "codemirror_mode": {
        "name": "ipython",
        "version": 3
      },
      "file_extension": ".py",
      "mimetype": "text/x-python",
      "name": "python",
      "nbconvert_exporter": "python",
      "pygments_lexer": "ipython3",
      "version": "3.10.13"
    }
  },
  "nbformat": 4,
  "nbformat_minor": 0
}