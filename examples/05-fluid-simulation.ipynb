{
  "cells": [
    {
      "cell_type": "markdown",
      "metadata": {},
      "source": [
        "# Postprocess a fluid simulation {#ref_fluid_example}\n\nThis example shows how to load a fluid simulation, explore the model and\nits available zones, species, and phases, and then extract a result.\n\n::: note\n::: title\nNote\n:::\n\nThis example requires DPF 7.0 (2024.1.pre0) or later. For more\ninformation, see `compatibility`{.interpreted-text role=\"ref\"}.\n:::\n"
      ]
    },
    {
      "cell_type": "markdown",
      "metadata": {},
      "source": [
        "# Perform required imports\n"
      ]
    },
    {
      "cell_type": "code",
      "execution_count": null,
      "metadata": {
        "collapsed": false
      },
      "outputs": [],
      "source": [
        "from ansys.dpf import post\nfrom ansys.dpf.post import examples"
      ]
    },
    {
      "cell_type": "markdown",
      "metadata": {},
      "source": [
        "# Load the fluid analysis result\n"
      ]
    },
    {
      "cell_type": "code",
      "execution_count": null,
      "metadata": {
        "collapsed": false
      },
      "outputs": [],
      "source": [
        "fluid_example_files = examples.download_fluent_axial_comp()\nsimulation = post.FluidSimulation(\n    cas=fluid_example_files[\"cas\"], dat=fluid_example_files[\"dat\"]\n)\n# Printing the simulation will show most of the available metadata\nprint(simulation)"
      ]
    },
    {
      "cell_type": "markdown",
      "metadata": {},
      "source": [
        "# Explore available metadata\n\nCheck the available cell and face zones.\n"
      ]
    },
    {
      "cell_type": "code",
      "execution_count": null,
      "metadata": {
        "collapsed": false
      },
      "outputs": [],
      "source": [
        "print(simulation.cell_zones)\nprint(simulation.face_zones)"
      ]
    },
    {
      "cell_type": "markdown",
      "metadata": {},
      "source": [
        "The mesh metadata is available separately from the mesh as accessing the\nmesh means loading it. Use the `mesh_info` property to explore the mesh\nstructure to define queries.\n"
      ]
    },
    {
      "cell_type": "code",
      "execution_count": null,
      "metadata": {
        "collapsed": false
      },
      "outputs": [],
      "source": [
        "print(simulation.mesh_info)"
      ]
    },
    {
      "cell_type": "markdown",
      "metadata": {},
      "source": [
        "# Check available species\n"
      ]
    },
    {
      "cell_type": "code",
      "execution_count": null,
      "metadata": {
        "collapsed": false
      },
      "outputs": [],
      "source": [
        "print(simulation.species)"
      ]
    },
    {
      "cell_type": "markdown",
      "metadata": {},
      "source": [
        "# Check available phases\n"
      ]
    },
    {
      "cell_type": "code",
      "execution_count": null,
      "metadata": {
        "collapsed": false
      },
      "outputs": [],
      "source": [
        "print(simulation.phases)"
      ]
    },
    {
      "cell_type": "markdown",
      "metadata": {},
      "source": [
        "# Check metadata on available results\n"
      ]
    },
    {
      "cell_type": "code",
      "execution_count": null,
      "metadata": {
        "collapsed": false
      },
      "outputs": [],
      "source": [
        "print(simulation.result_info)"
      ]
    },
    {
      "cell_type": "markdown",
      "metadata": {},
      "source": [
        "# Extract a result\n\nPrint a specific result to get more information on available qualifiers\n(such as zones and phases).\n"
      ]
    },
    {
      "cell_type": "code",
      "execution_count": null,
      "metadata": {
        "collapsed": false
      },
      "outputs": [],
      "source": [
        "print(simulation.result_info[\"enthalpy\"])\n# Or use an index\n# print(simulation.result_info[0])"
      ]
    },
    {
      "cell_type": "markdown",
      "metadata": {},
      "source": [
        "# Extract this result as a dataframe\n"
      ]
    },
    {
      "cell_type": "code",
      "execution_count": null,
      "metadata": {
        "collapsed": false
      },
      "outputs": [],
      "source": [
        "enthalpy = simulation.enthalpy()\nprint(enthalpy)\n# Not specifying any qualifier returns a unique column of data"
      ]
    },
    {
      "cell_type": "markdown",
      "metadata": {},
      "source": [
        "# Plot dataframe\n"
      ]
    },
    {
      "cell_type": "code",
      "execution_count": null,
      "metadata": {
        "collapsed": false
      },
      "outputs": [],
      "source": [
        "enthalpy.plot()"
      ]
    },
    {
      "cell_type": "markdown",
      "metadata": {},
      "source": [
        "# Use qualifiers for result to filter or separate data\n\nYou can use available qualifiers for the result in the extraction\nrequest to filter or separate data.\n\nThis code outputs a different column for each available zone for the\nresult.\n"
      ]
    },
    {
      "cell_type": "code",
      "execution_count": null,
      "metadata": {
        "collapsed": false
      },
      "outputs": [],
      "source": [
        "print(simulation.enthalpy(zone_ids=[13, 28]))\n#\n# This code extracts only the data for the fluid-stator zone.\nprint(simulation.enthalpy(zone_ids=[28]))\n#\n# You can apply the same logic to any available qualifier found in the ``AvailableResult``\n# description under 'Available qualifier labels'."
      ]
    },
    {
      "cell_type": "markdown",
      "metadata": {},
      "source": [
        "The result extraction request can also contain selection arguments.\nBecause the enthalpy result is being defined on cells, you can request\ndata for specific cells using their IDs:\n"
      ]
    },
    {
      "cell_type": "code",
      "execution_count": null,
      "metadata": {
        "collapsed": false
      },
      "outputs": [],
      "source": [
        "print(simulation.enthalpy(cell_ids=[1, 2]))"
      ]
    },
    {
      "cell_type": "markdown",
      "metadata": {},
      "source": [
        "For an example showing how to create and manipulate a DPF dataframe, see\n`ref_dataframe_example`{.interpreted-text role=\"ref\"}.\n"
      ]
    }
  ],
  "metadata": {
    "kernelspec": {
      "display_name": "Python 3",
      "language": "python",
      "name": "python3"
    },
    "language_info": {
      "codemirror_mode": {
        "name": "ipython",
        "version": 3
      },
      "file_extension": ".py",
      "mimetype": "text/x-python",
      "name": "python",
      "nbconvert_exporter": "python",
      "pygments_lexer": "ipython3",
      "version": "3.10.18"
    }
  },
  "nbformat": 4,
  "nbformat_minor": 0
}