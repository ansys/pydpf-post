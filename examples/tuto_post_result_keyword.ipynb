{
 "cells": [
  {
   "cell_type": "markdown",
   "metadata": {},
   "source": [
    "# This tutorial shows how to get more precise result with keywords while calling a result from a result object"
   ]
  },
  {
   "cell_type": "markdown",
   "metadata": {},
   "source": [
    "## Available keywords are \"node_scoping\", \"element_scoping\", \"named_selection\""
   ]
  },
  {
   "cell_type": "markdown",
   "metadata": {},
   "source": [
    "### Get the result object"
   ]
  },
  {
   "cell_type": "code",
   "execution_count": 1,
   "metadata": {},
   "outputs": [
    {
     "name": "stdout",
     "output_type": "stream",
     "text": [
      "server started at --address 10.110.2.65 --port 50052\n"
     ]
    }
   ],
   "source": [
    "from ansys.dpf import post\n",
    "result = post.result(\"d:/rst/static_twobodies_ns.rst\")"
   ]
  },
  {
   "cell_type": "markdown",
   "metadata": {},
   "source": [
    "### Use a scoping on result"
   ]
  },
  {
   "cell_type": "code",
   "execution_count": 3,
   "metadata": {},
   "outputs": [],
   "source": [
    "displacement = result.nodal_displacement(node_scoping = [1, 2, 3])"
   ]
  },
  {
   "cell_type": "code",
   "execution_count": 4,
   "metadata": {},
   "outputs": [
    {
     "data": {
      "text/plain": [
       "array([[ 0.00379735,  0.04473428,  0.00831521],\n",
       "       [ 0.00254443,  0.04473239,  0.00067533],\n",
       "       [ 0.00129122,  0.04473354, -0.00696479]])"
      ]
     },
     "execution_count": 4,
     "metadata": {},
     "output_type": "execute_result"
    }
   ],
   "source": [
    "displacement.data_at_field(0)"
   ]
  },
  {
   "cell_type": "code",
   "execution_count": 14,
   "metadata": {},
   "outputs": [],
   "source": [
    "stress_with_elem_scop = result.elemental_stress(element_scoping = [1])"
   ]
  },
  {
   "cell_type": "code",
   "execution_count": 15,
   "metadata": {},
   "outputs": [
    {
     "data": {
      "text/plain": [
       "array([[-7.76947840e+08,  2.30038374e+09,  1.79927373e+09,\n",
       "        -5.30445504e+08, -6.89238528e+08,  1.00718451e+09],\n",
       "       [-8.34727552e+08,  5.74724864e+08,  4.41359923e+09,\n",
       "         6.39719080e+07,  2.51828634e+09,  1.39846362e+09],\n",
       "       [-5.50896640e+08,  7.95577856e+08,  5.93578957e+09,\n",
       "         2.70925888e+08, -2.62505232e+08,  2.07582515e+09],\n",
       "       [-6.12245504e+08,  1.05938989e+09,  4.76268544e+09,\n",
       "         1.49492390e+09,  7.03467072e+08,  1.08908582e+09],\n",
       "       [-2.09427174e+09, -6.03949312e+09,  9.34414438e+09,\n",
       "         3.42422426e+09,  2.58427725e+09,  5.90829261e+09],\n",
       "       [ 1.95679718e+09, -1.90205555e+09,  1.60553646e+10,\n",
       "        -8.90331584e+08, -2.48762189e+09,  5.10888960e+09],\n",
       "       [-3.04948582e+09,  1.24922099e+09,  1.08264899e+10,\n",
       "         6.53856384e+08,  1.12002701e+09,  4.68143821e+09],\n",
       "       [ 6.68166272e+08, -6.60018176e+08,  1.53434348e+10,\n",
       "        -1.36846669e+09, -2.75138440e+07,  3.22212838e+09]])"
      ]
     },
     "execution_count": 15,
     "metadata": {},
     "output_type": "execute_result"
    }
   ],
   "source": [
    "stress_with_elem_scop.data_at_field(0)"
   ]
  },
  {
   "cell_type": "markdown",
   "metadata": {},
   "source": [
    "### Use a named selection on result (named_selection name must be written using UPPER CASE)"
   ]
  },
  {
   "cell_type": "code",
   "execution_count": 8,
   "metadata": {},
   "outputs": [],
   "source": [
    "stress_on_ns = result.elemental_stress(named_selection=\"SELECTION\")"
   ]
  },
  {
   "cell_type": "code",
   "execution_count": 16,
   "metadata": {},
   "outputs": [
    {
     "data": {
      "text/plain": [
       "1"
      ]
     },
     "execution_count": 16,
     "metadata": {},
     "output_type": "execute_result"
    }
   ],
   "source": [
    "stress_on_ns.num_fields()"
   ]
  },
  {
   "cell_type": "code",
   "execution_count": 17,
   "metadata": {},
   "outputs": [
    {
     "data": {
      "text/plain": [
       "24480"
      ]
     },
     "execution_count": 17,
     "metadata": {},
     "output_type": "execute_result"
    }
   ],
   "source": [
    "stress_on_ns[0].__len__()"
   ]
  }
 ],
 "metadata": {
  "kernelspec": {
   "display_name": "Python 3",
   "language": "python",
   "name": "python3"
  },
  "language_info": {
   "codemirror_mode": {
    "name": "ipython",
    "version": 3
   },
   "file_extension": ".py",
   "mimetype": "text/x-python",
   "name": "python",
   "nbconvert_exporter": "python",
   "pygments_lexer": "ipython3",
   "version": "3.7.6"
  }
 },
 "nbformat": 4,
 "nbformat_minor": 4
}
