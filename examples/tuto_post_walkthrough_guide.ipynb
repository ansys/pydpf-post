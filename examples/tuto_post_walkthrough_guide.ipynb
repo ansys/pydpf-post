{
 "cells": [
  {
   "cell_type": "markdown",
   "metadata": {},
   "source": [
    "# Tutorial which introduces the whole API"
   ]
  },
  {
   "cell_type": "markdown",
   "metadata": {},
   "source": [
    "## Start ansys.post module (this launch the server)"
   ]
  },
  {
   "cell_type": "code",
   "execution_count": 1,
   "metadata": {},
   "outputs": [
    {
     "name": "stdout",
     "output_type": "stream",
     "text": [
      "server started at --address 10.110.2.65 --port 50052\n"
     ]
    }
   ],
   "source": [
    "from ansys.dpf import post"
   ]
  },
  {
   "cell_type": "markdown",
   "metadata": {},
   "source": [
    "## Get documentation about DPF"
   ]
  },
  {
   "cell_type": "code",
   "execution_count": 2,
   "metadata": {},
   "outputs": [],
   "source": [
    "# Here generated with a filepath. Default filepath is the working directory.\n",
    "post.build_docs(\"d:/temp/dpf_documentation.html\")"
   ]
  },
  {
   "cell_type": "markdown",
   "metadata": {},
   "source": [
    "## Prepare a solution object"
   ]
  },
  {
   "cell_type": "markdown",
   "metadata": {},
   "source": [
    "### Get the solution object: must be instantiated with the result filepath"
   ]
  },
  {
   "cell_type": "code",
   "execution_count": 3,
   "metadata": {},
   "outputs": [
    {
     "name": "stdout",
     "output_type": "stream",
     "text": [
      "Static result object.\n",
      "\n",
      "\n",
      "Data Sources\n",
      "------------------------------\n",
      "DPF data_sources with result key: rst \n",
      "paths: {'rst': ['d:/rst/twobodies.rst']}\n",
      "\n",
      "\n",
      "DPF Model\n",
      "------------------------------\n",
      "Static analysis\n",
      "Unit system: Metric (m, kg, N, s, V, A)\n",
      "Physics Type: Mecanic\n",
      "Available results:\n",
      "     -  displacement                  \n",
      "     -  force                         \n",
      "     -  stress                        \n",
      "     -  volume                        \n",
      "     -  energy_stiffness_matrix       \n",
      "     -  hourglass_energy              \n",
      "     -  thermal_dissipation_energy    \n",
      "     -  kinetic_energy                \n",
      "     -  co_energy                     \n",
      "     -  incremental_energy            \n",
      "     -  strain                        \n",
      "     -  temperature                   \n",
      "------------------------------\n",
      "Meshed Region\n",
      "\t5081 nodes\n",
      "\t1246 elements\n",
      "\tUnit: m \n",
      "------------------------------\n",
      "Time/Frequency Info:\n",
      "\tNumber of sets: 1\n",
      "\n",
      "With complex values\n",
      " \n",
      " Cumulative      Time (s)       Loadstep     Substep   \n",
      "     1             1.0             1            1      \n",
      "\n"
     ]
    }
   ],
   "source": [
    "solution = post.solution(\"d:/rst/twobodies.rst\")\n",
    "print(solution)"
   ]
  },
  {
   "cell_type": "markdown",
   "metadata": {},
   "source": [
    "### Get a result object from the solution object (result can be: stress, plastic_strain, plastic_stress, temperature, displacement)"
   ]
  },
  {
   "cell_type": "code",
   "execution_count": 4,
   "metadata": {},
   "outputs": [
    {
     "name": "stdout",
     "output_type": "stream",
     "text": [
      "element_scoping\n",
      "grouping\n",
      "location\n",
      "mapdl_grouping\n",
      "named_selection\n",
      "node_scoping\n",
      "phase\n",
      "set\n",
      "subresult\n",
      "time\n",
      "time_scoping\n",
      "\n"
     ]
    }
   ],
   "source": [
    "print(post.available_keywords())"
   ]
  },
  {
   "cell_type": "code",
   "execution_count": 5,
   "metadata": {},
   "outputs": [
    {
     "name": "stdout",
     "output_type": "stream",
     "text": [
      "Stress. \n",
      "Tensor object. \n",
      "\n",
      "Object properties are: \n",
      " - location = Elemental\n",
      " - named_selection = SELECTION\n",
      " - time_scoping = [1]\n",
      " - operator_name = S\n",
      "\n"
     ]
    }
   ],
   "source": [
    "stress = solution.stress(location=post.locations.elemental, named_selection=\"SELECTION\", time_scoping=[1]) \n",
    "\n",
    "# The line above is equivalent to the following lines:\n",
    "# stress = solution.stress()\n",
    "# stress.location = post.locations.elemental\n",
    "# stress.named_selection = \"SELECTION\"\n",
    "# stress.time_scoping = [1]\n",
    "\n",
    "print(stress)"
   ]
  },
  {
   "cell_type": "code",
   "execution_count": 6,
   "metadata": {},
   "outputs": [
    {
     "data": {
      "text/plain": [
       "'Elemental'"
      ]
     },
     "execution_count": 6,
     "metadata": {},
     "output_type": "execute_result"
    }
   ],
   "source": [
    "stress.location"
   ]
  },
  {
   "cell_type": "code",
   "execution_count": 7,
   "metadata": {},
   "outputs": [
    {
     "data": {
      "text/plain": [
       "'SELECTION'"
      ]
     },
     "execution_count": 7,
     "metadata": {},
     "output_type": "execute_result"
    }
   ],
   "source": [
    "stress.named_selection"
   ]
  },
  {
   "cell_type": "code",
   "execution_count": 8,
   "metadata": {},
   "outputs": [
    {
     "data": {
      "text/plain": [
       "[1]"
      ]
     },
     "execution_count": 8,
     "metadata": {},
     "output_type": "execute_result"
    }
   ],
   "source": [
    "stress.time_scoping"
   ]
  },
  {
   "cell_type": "markdown",
   "metadata": {},
   "source": [
    "## Compute data (here is stress, but that also can be done with displacement, temperature, elastic_strain, plastic_strain)"
   ]
  },
  {
   "cell_type": "markdown",
   "metadata": {},
   "source": [
    "### Get a subresult"
   ]
  },
  {
   "cell_type": "markdown",
   "metadata": {},
   "source": [
    "#### SX: stress subresult (X component of the tensor)"
   ]
  },
  {
   "cell_type": "code",
   "execution_count": 9,
   "metadata": {},
   "outputs": [],
   "source": [
    "sx = stress.XX(set=1) #time and phase (for complex result) can also be used as keyword arguments\n",
    "\n",
    "# Please note that the following line allows to pass directly to the sx object without created a stress object\n",
    "# sx = solution.stress(location=post.locations.elemental, named_selection=\"SELECTION\", time_scoping=[1]).XX(set=1)"
   ]
  },
  {
   "cell_type": "code",
   "execution_count": 10,
   "metadata": {},
   "outputs": [
    {
     "data": {
      "text/plain": [
       "1"
      ]
     },
     "execution_count": 10,
     "metadata": {},
     "output_type": "execute_result"
    }
   ],
   "source": [
    "sx.num_fields()"
   ]
  },
  {
   "cell_type": "code",
   "execution_count": 11,
   "metadata": {},
   "outputs": [],
   "source": [
    "sx_field = sx[0]"
   ]
  },
  {
   "cell_type": "code",
   "execution_count": 12,
   "metadata": {},
   "outputs": [
    {
     "data": {
      "text/plain": [
       "510"
      ]
     },
     "execution_count": 12,
     "metadata": {},
     "output_type": "execute_result"
    }
   ],
   "source": [
    "sx_data = sx.data_at_field(0)\n",
    "sx_data.__len__()"
   ]
  },
  {
   "cell_type": "code",
   "execution_count": 13,
   "metadata": {},
   "outputs": [
    {
     "data": {
      "text/plain": [
       "<ansys.dpf.core.field.Field at 0x211616a0dc8>"
      ]
     },
     "execution_count": 13,
     "metadata": {},
     "output_type": "execute_result"
    }
   ],
   "source": [
    "sx.max()"
   ]
  },
  {
   "cell_type": "code",
   "execution_count": 14,
   "metadata": {},
   "outputs": [
    {
     "data": {
      "text/plain": [
       "array([3.38161987e+12])"
      ]
     },
     "execution_count": 14,
     "metadata": {},
     "output_type": "execute_result"
    }
   ],
   "source": [
    "sx.max_data()"
   ]
  },
  {
   "cell_type": "code",
   "execution_count": 15,
   "metadata": {},
   "outputs": [
    {
     "data": {
      "text/plain": [
       "3381619871744.0"
      ]
     },
     "execution_count": 15,
     "metadata": {},
     "output_type": "execute_result"
    }
   ],
   "source": [
    "sx.max_data_at_field(0)"
   ]
  },
  {
   "cell_type": "code",
   "execution_count": 16,
   "metadata": {},
   "outputs": [
    {
     "name": "stdout",
     "output_type": "stream",
     "text": [
      "Stress result.\n",
      "X component. \n",
      "\n",
      "The result is computed thanks to dpf.core.Operator objects, that are chained together regarding the following list: \n",
      "- scoping_provider_by_ns: This operator will compute a scoping from a named selection name. Its output (mesh_scoping) will be connected with the mesh_scoping input of the result operator.\n",
      "- SX: Result operator. Compute the wanted result\n",
      "\n"
     ]
    }
   ],
   "source": [
    "print(sx)"
   ]
  },
  {
   "cell_type": "markdown",
   "metadata": {},
   "source": [
    "#### S: stress subresult (whole tensor)"
   ]
  },
  {
   "cell_type": "code",
   "execution_count": 17,
   "metadata": {},
   "outputs": [],
   "source": [
    "s = stress.tensor()"
   ]
  },
  {
   "cell_type": "code",
   "execution_count": 18,
   "metadata": {},
   "outputs": [
    {
     "data": {
      "text/plain": [
       "array([[3.38161987e+12, 1.42170320e+12, 7.58025955e+12, 8.34118124e+11,\n",
       "        7.92399409e+11, 8.84208337e+11]])"
      ]
     },
     "execution_count": 18,
     "metadata": {},
     "output_type": "execute_result"
    }
   ],
   "source": [
    "s_field = s[0]\n",
    "s_data = sx.data_at_field(0)\n",
    "s_data.__len__()\n",
    "s.max()\n",
    "s.max_data()"
   ]
  },
  {
   "cell_type": "code",
   "execution_count": 19,
   "metadata": {},
   "outputs": [
    {
     "data": {
      "text/plain": [
       "array([3.38161987e+12, 1.42170320e+12, 7.58025955e+12, 8.34118124e+11,\n",
       "       7.92399409e+11, 8.84208337e+11])"
      ]
     },
     "execution_count": 19,
     "metadata": {},
     "output_type": "execute_result"
    }
   ],
   "source": [
    "s.max_data_at_field(0)"
   ]
  },
  {
   "cell_type": "code",
   "execution_count": 20,
   "metadata": {},
   "outputs": [
    {
     "data": {
      "text/plain": [
       "array([-3.38161993e+12, -1.42170325e+12, -7.58025945e+12, -8.26469237e+11,\n",
       "       -8.03234398e+11, -8.84208292e+11])"
      ]
     },
     "execution_count": 20,
     "metadata": {},
     "output_type": "execute_result"
    }
   ],
   "source": [
    "s.min()\n",
    "s.min_data()\n",
    "s.min_data_at_field(0)"
   ]
  },
  {
   "cell_type": "markdown",
   "metadata": {},
   "source": [
    "### Display"
   ]
  },
  {
   "cell_type": "code",
   "execution_count": 21,
   "metadata": {},
   "outputs": [
    {
     "data": {
      "image/png": "[encoded data removed]",
      "text/plain": [
       "<PIL.Image.Image image mode=RGB size=1024x768 at 0x211616D7688>"
      ]
     },
     "metadata": {},
     "output_type": "display_data"
    }
   ],
   "source": [
    "s.plot_contour()"
   ]
  }
 ],
 "metadata": {
  "kernelspec": {
   "display_name": "Python 3",
   "language": "python",
   "name": "python3"
  },
  "language_info": {
   "codemirror_mode": {
    "name": "ipython",
    "version": 3
   },
   "file_extension": ".py",
   "mimetype": "text/x-python",
   "name": "python",
   "nbconvert_exporter": "python",
   "pygments_lexer": "ipython3",
   "version": "3.7.6"
  }
 },
 "nbformat": 4,
 "nbformat_minor": 4
}
