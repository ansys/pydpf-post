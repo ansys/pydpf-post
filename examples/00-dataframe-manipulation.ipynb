{
  "cells": [
    {
      "cell_type": "markdown",
      "metadata": {},
      "source": [
        "# Create and manipulate a DPF dataframe {#ref_dataframe_example}\n\nThis example shows how to generate a dataframe by extracting a result\nfrom a static simulation. It also shows different dataframe viewing and\nmanipulation possibilities.\n"
      ]
    },
    {
      "cell_type": "markdown",
      "metadata": {},
      "source": [
        "# Perform required imports\n\nPerform required imports. This example uses a supplied file that you can\nget by importing the DPF `examples` package.\n"
      ]
    },
    {
      "cell_type": "code",
      "execution_count": null,
      "metadata": {
        "collapsed": false
      },
      "outputs": [],
      "source": [
        "from ansys.dpf import post\nfrom ansys.dpf.post import examples"
      ]
    },
    {
      "cell_type": "markdown",
      "metadata": {},
      "source": [
        "# Get the `Simulation` object\n\nGet the `Simulation` object that allows access to the result. The\n`Simulation` object must be instantiated with the path for the result\nfile. For example, `\"C:/Users/user/my_result.rst\"` on Windows or\n`\"/home/user/my_result.rst\"` on Linux.\n"
      ]
    },
    {
      "cell_type": "code",
      "execution_count": null,
      "metadata": {
        "collapsed": false
      },
      "outputs": [],
      "source": [
        "example_path = examples.download_crankshaft()\n# to automatically detect the simulation type, use:\nsimulation = post.load_simulation(example_path)\n\n# to enable auto-completion, use the equivalent:\nsimulation = post.StaticMechanicalSimulation(example_path)\n\n# print the simulation to get an overview of what's available\nprint(simulation)"
      ]
    },
    {
      "cell_type": "markdown",
      "metadata": {},
      "source": [
        "# Get a `Dataframe` object\n\nExtract a result as a dataframe.\n"
      ]
    },
    {
      "cell_type": "code",
      "execution_count": null,
      "metadata": {
        "collapsed": false
      },
      "outputs": [],
      "source": [
        "displacement_dataframe = simulation.displacement(all_sets=True)\n\n# The dataframe is displayed as a table, with row and column labels to identify the data.\nprint(displacement_dataframe)"
      ]
    },
    {
      "cell_type": "markdown",
      "metadata": {},
      "source": [
        "# Explore `Index` objects\n\nThe data labels are each defined by an `Index` object or one of its\nspecialized subtypes.\n"
      ]
    },
    {
      "cell_type": "code",
      "execution_count": null,
      "metadata": {
        "collapsed": false
      },
      "outputs": [],
      "source": [
        "# The dataframe's column labels are defined in ``Dataframe.columns```.\nprint(displacement_dataframe.columns)"
      ]
    },
    {
      "cell_type": "markdown",
      "metadata": {},
      "source": [
        "A `ResultIndex` index defines the result stored in the dataframe.\n"
      ]
    },
    {
      "cell_type": "code",
      "execution_count": null,
      "metadata": {
        "collapsed": false
      },
      "outputs": [],
      "source": [
        "print(displacement_dataframe.columns[0])\n# print(displacement_dataframe.columns.results_index)  # equivalent"
      ]
    },
    {
      "cell_type": "markdown",
      "metadata": {},
      "source": [
        "You can check values available for an index.\n"
      ]
    },
    {
      "cell_type": "code",
      "execution_count": null,
      "metadata": {
        "collapsed": false
      },
      "outputs": [],
      "source": [
        "print(displacement_dataframe.columns[0].values)"
      ]
    },
    {
      "cell_type": "markdown",
      "metadata": {},
      "source": [
        "A `SetIndex` index defines the available set IDs available. A set ID is\na unique identifier associated to each time-step, step and substep, or\nfrequency available in a simulation. As shown next, an index has a name\nand a list of values of a given type.\n"
      ]
    },
    {
      "cell_type": "code",
      "execution_count": null,
      "metadata": {
        "collapsed": false
      },
      "outputs": [],
      "source": [
        "print(displacement_dataframe.columns[1])\nprint(displacement_dataframe.columns[1].values)"
      ]
    },
    {
      "cell_type": "markdown",
      "metadata": {},
      "source": [
        "The dataframe\\'s row labels are defined in `dataframe.index`.\n"
      ]
    },
    {
      "cell_type": "code",
      "execution_count": null,
      "metadata": {
        "collapsed": false
      },
      "outputs": [],
      "source": [
        "print(displacement_dataframe.index)"
      ]
    },
    {
      "cell_type": "markdown",
      "metadata": {},
      "source": [
        "A `MeshIndex` defines the mesh entities that data is available for. It\ncan store node IDs, element IDs, or face IDs.\n"
      ]
    },
    {
      "cell_type": "code",
      "execution_count": null,
      "metadata": {
        "collapsed": false
      },
      "outputs": [],
      "source": [
        "print(displacement_dataframe.index[0])\n# print(displacement_dataframe.index.mesh_index)  # equivalent"
      ]
    },
    {
      "cell_type": "markdown",
      "metadata": {},
      "source": [
        "Because the list of possible values can be long and querying it can be\ncostly, the list of available values might not be determined unless\nexplicitly asked.\n"
      ]
    },
    {
      "cell_type": "code",
      "execution_count": null,
      "metadata": {
        "collapsed": false
      },
      "outputs": [],
      "source": [
        "print(displacement_dataframe.index[0].values)"
      ]
    },
    {
      "cell_type": "markdown",
      "metadata": {},
      "source": [
        "The `MeshIndex` is then updated to display the actual number of entities\navailable.\n"
      ]
    },
    {
      "cell_type": "code",
      "execution_count": null,
      "metadata": {
        "collapsed": false
      },
      "outputs": [],
      "source": [
        "print(displacement_dataframe.index[0])\n# IMPORTANT: Note that the mesh entity IDs ordered based on the internal data storage structure,\n# they are not by ascending order by default!"
      ]
    },
    {
      "cell_type": "markdown",
      "metadata": {},
      "source": [
        "A `CompIndex` defines the result components that data is available for.\n"
      ]
    },
    {
      "cell_type": "code",
      "execution_count": null,
      "metadata": {
        "collapsed": false
      },
      "outputs": [],
      "source": [
        "print(displacement_dataframe.index[1])\nprint(displacement_dataframe.index[1].values)"
      ]
    },
    {
      "cell_type": "markdown",
      "metadata": {},
      "source": [
        "# Change the dataframe print\n\nOptions exist to configure the way a dataframe is shown. You can change\nthe number of data rows shown:\n"
      ]
    },
    {
      "cell_type": "code",
      "execution_count": null,
      "metadata": {
        "collapsed": false
      },
      "outputs": [],
      "source": [
        "displacement_dataframe.display_max_rows = 9\nprint(displacement_dataframe)"
      ]
    },
    {
      "cell_type": "markdown",
      "metadata": {},
      "source": [
        "You can change the number of data columns shown:\n"
      ]
    },
    {
      "cell_type": "code",
      "execution_count": null,
      "metadata": {
        "collapsed": false
      },
      "outputs": [],
      "source": [
        "displacement_dataframe.display_max_columns = 2\nprint(displacement_dataframe)\n# Notice that the ``...`` symbols specify that the Dataframe is truncated in that direction."
      ]
    },
    {
      "cell_type": "markdown",
      "metadata": {},
      "source": [
        "# See node number in element\\'s connectivity\n\nWhen dealing with results located on each node of each element (which is\nknown as ElementalNodal results, an `ElementNodeIndex` index is added at\ncreation to specify the node number in the element\\'s connectivity.\n"
      ]
    },
    {
      "cell_type": "code",
      "execution_count": null,
      "metadata": {
        "collapsed": false
      },
      "outputs": [],
      "source": [
        "stress = simulation.stress()\nprint(stress)\nprint(stress.columns[2])"
      ]
    },
    {
      "cell_type": "markdown",
      "metadata": {},
      "source": [
        "# Select data\n\nTo select specific columns or rows, use the index names as arguments for\nthe `DataFrame.select()` method, which takes lists of values:\n"
      ]
    },
    {
      "cell_type": "code",
      "execution_count": null,
      "metadata": {
        "collapsed": false
      },
      "outputs": [],
      "source": [
        "disp_X_1 = displacement_dataframe.select(\n    set_ids=[1], node_ids=[4872, 9005], components=[\"X\"]\n)\nprint(disp_X_1)"
      ]
    },
    {
      "cell_type": "markdown",
      "metadata": {},
      "source": [
        "You can also select along an index using a zero-based position with the\n`Dataframe.iselect()` method:\n"
      ]
    },
    {
      "cell_type": "code",
      "execution_count": null,
      "metadata": {
        "collapsed": false
      },
      "outputs": [],
      "source": [
        "disp_Y_9005_3 = displacement_dataframe.iselect(\n    set_ids=[2], node_ids=[1], components=[1]\n)\nprint(disp_Y_9005_3)"
      ]
    },
    {
      "cell_type": "markdown",
      "metadata": {},
      "source": [
        "# Extract data\n\nOnce the dataframe contains the specific data you require, extract it as\nan array:\n"
      ]
    },
    {
      "cell_type": "code",
      "execution_count": null,
      "metadata": {
        "collapsed": false
      },
      "outputs": [],
      "source": [
        "print(disp_X_1.array)\n# IMPORTANT: Note that for the extraction of the Dataframe's data as an array to make sense,\n# you must first filter the columns label values to a unique combination of values.\n# The exception is for ElementalNodal data, which is returned as a 2D array.\nprint(stress.array.shape)"
      ]
    },
    {
      "cell_type": "markdown",
      "metadata": {},
      "source": [
        "# Plot a dataframe\n"
      ]
    },
    {
      "cell_type": "code",
      "execution_count": null,
      "metadata": {
        "collapsed": false
      },
      "outputs": [],
      "source": [
        "displacement_dataframe.plot()"
      ]
    },
    {
      "cell_type": "markdown",
      "metadata": {},
      "source": [
        "# Animate a transient dataframe\n"
      ]
    },
    {
      "cell_type": "code",
      "execution_count": null,
      "metadata": {
        "collapsed": false
      },
      "outputs": [],
      "source": [
        "displacement_dataframe.animate()"
      ]
    }
  ],
  "metadata": {
    "kernelspec": {
      "display_name": "Python 3",
      "language": "python",
      "name": "python3"
    },
    "language_info": {
      "codemirror_mode": {
        "name": "ipython",
        "version": 3
      },
      "file_extension": ".py",
      "mimetype": "text/x-python",
      "name": "python",
      "nbconvert_exporter": "python",
      "pygments_lexer": "ipython3",
      "version": "3.10.17"
    }
  },
  "nbformat": 4,
  "nbformat_minor": 0
}